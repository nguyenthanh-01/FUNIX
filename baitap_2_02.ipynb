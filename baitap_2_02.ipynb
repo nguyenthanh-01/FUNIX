{
  "nbformat": 4,
  "nbformat_minor": 0,
  "metadata": {
    "colab": {
      "name": "baitap_2_02.ipynb",
      "provenance": [],
      "collapsed_sections": [],
      "authorship_tag": "ABX9TyMvMU0UFWnG8VgWfWgJI8ES",
      "include_colab_link": true
    },
    "kernelspec": {
      "name": "python3",
      "display_name": "Python 3"
    },
    "language_info": {
      "name": "python"
    }
  },
  "cells": [
    {
      "cell_type": "markdown",
      "metadata": {
        "id": "view-in-github",
        "colab_type": "text"
      },
      "source": [
        "<a href=\"https://colab.research.google.com/github/nguyenthanh-01/FUNIX/blob/main/baitap_2_02.ipynb\" target=\"_parent\"><img src=\"https://colab.research.google.com/assets/colab-badge.svg\" alt=\"Open In Colab\"/></a>"
      ]
    },
    {
      "cell_type": "code",
      "execution_count": null,
      "metadata": {
        "colab": {
          "base_uri": "https://localhost:8080/"
        },
        "id": "KTfy9irOAdle",
        "outputId": "e6b3d489-3f3f-4743-8602-e2bc54276bd2"
      },
      "outputs": [
        {
          "output_type": "stream",
          "name": "stdout",
          "text": [
            "28\n",
            "56\n"
          ]
        }
      ],
      "source": [
        "# 02_01 \n",
        "# Tính tổng ước của số nguyên dương n\n",
        "a = int(input())\n",
        "c = 0\n",
        "for i in range(a,0,-1):\n",
        "  if not(a%i):\n",
        "    c += i\n",
        "print(c)"
      ]
    },
    {
      "cell_type": "code",
      "source": [
        "# 02_02\n",
        "# Đếm số lượng ước và liệt kê các ước theo thứ tự tăng dần của số nguyên dương n\n",
        "a = int(input())\n",
        "b = []\n",
        "c = 0\n",
        "for i in range(a,0,-1):\n",
        "  if not(a%i):\n",
        "    c += 1\n",
        "    b.append(i)\n",
        "b.reverse()\n",
        "print(c)\n",
        "print(*b)"
      ],
      "metadata": {
        "colab": {
          "base_uri": "https://localhost:8080/"
        },
        "id": "FtUFCkjsDfsI",
        "outputId": "8dbcd661-43ae-4fb5-abcd-ba4cd2908ccd"
      },
      "execution_count": null,
      "outputs": [
        {
          "output_type": "stream",
          "name": "stdout",
          "text": [
            "28\n",
            "6\n",
            "1 2 4 7 14 28\n"
          ]
        }
      ]
    },
    {
      "cell_type": "code",
      "source": [
        "# 02_03\n",
        "# Liệt kê các số chính phương dương và không vượt quá n\n",
        "a = int(input()) + 1\n",
        "b = []\n",
        "for i in range(1,a,1):\n",
        "  c = i**(1/2)\n",
        "  if c == int(c):\n",
        "    b.append(i)\n",
        "print(*b)"
      ],
      "metadata": {
        "id": "uAcedjaDGfLq",
        "colab": {
          "base_uri": "https://localhost:8080/"
        },
        "outputId": "119fac29-8a04-4751-f86f-d85214d5b901"
      },
      "execution_count": null,
      "outputs": [
        {
          "output_type": "stream",
          "name": "stdout",
          "text": [
            "50\n",
            "1 4 9 16 25 36 49\n"
          ]
        }
      ]
    },
    {
      "cell_type": "code",
      "source": [
        "# 02_04\n",
        "# Tính tích các ước của số tự nhiên\n",
        "a = int(input())\n",
        "c = 1\n",
        "for i in range(a,0,-1):\n",
        "  if not(a%i):\n",
        "    c *= i\n",
        "print(c)"
      ],
      "metadata": {
        "colab": {
          "base_uri": "https://localhost:8080/"
        },
        "id": "qOsA3h4QnlfU",
        "outputId": "70cb5d3a-3e03-43ab-e5f6-868210d5b974"
      },
      "execution_count": null,
      "outputs": [
        {
          "output_type": "stream",
          "name": "stdout",
          "text": [
            "10\n",
            "100\n"
          ]
        }
      ]
    },
    {
      "cell_type": "code",
      "source": [
        "# 02_05\n",
        "# Nhập vào một dãy n số nguyên dương đều không quá 106\n",
        "# In ra YES nếu số 2021 xuất hiện trong dãy các số vừa nhập, \n",
        "# ngược lại in ra NO\n",
        "a = int(input())\n",
        "b = []\n",
        "c = 1\n",
        "for i in range(a):\n",
        "  b.append(int(input()))\n",
        "  if b[i] == 2021:\n",
        "    c = 0\n",
        "if c:\n",
        "  print(\"NO\")\n",
        "else: \n",
        "  print(\"YES\")"
      ],
      "metadata": {
        "id": "uLy0t3VJn_1I",
        "colab": {
          "base_uri": "https://localhost:8080/"
        },
        "outputId": "38842b64-1d02-4538-b430-e89472b0204c"
      },
      "execution_count": null,
      "outputs": [
        {
          "output_type": "stream",
          "name": "stdout",
          "text": [
            "5\n",
            "2001\n",
            "2\n",
            "2021\n",
            "10\n",
            "55\n",
            "YES\n"
          ]
        }
      ]
    },
    {
      "cell_type": "code",
      "source": [
        "# 02_06\n",
        "# Nhập vào giá trị của n nguyên dương không quá 109, \n",
        "# tính tổng sau và in kết quả ra màn hình : S=1+2+3+….+n\n",
        "a = int(input()) + 1\n",
        "c = 0\n",
        "for i in range(1,a,1):\n",
        "  c += i\n",
        "print(c)"
      ],
      "metadata": {
        "id": "e0YZuUEy0Zpw",
        "colab": {
          "base_uri": "https://localhost:8080/"
        },
        "outputId": "f125ea65-edad-4260-c2f3-5c4357f7481d"
      },
      "execution_count": null,
      "outputs": [
        {
          "output_type": "stream",
          "name": "stdout",
          "text": [
            "6\n",
            "21\n"
          ]
        }
      ]
    },
    {
      "cell_type": "code",
      "source": [
        "# 02_07\n",
        "# Nhập vào giá trị của n nguyên dương không quá 105, \n",
        "# tính tổng sau và in kết quả ra màn hình : S=1^2+2^2+3^2+….+n2\n",
        "a = int(input()) + 1\n",
        "c = 0\n",
        "for i in range(1,a,1):\n",
        "  c += i*i\n",
        "print(c)"
      ],
      "metadata": {
        "colab": {
          "base_uri": "https://localhost:8080/"
        },
        "id": "uWcsbcr6_8Hr",
        "outputId": "461f2d18-07f0-4408-fd3c-e60ae00640a6"
      },
      "execution_count": null,
      "outputs": [
        {
          "output_type": "stream",
          "name": "stdout",
          "text": [
            "3\n",
            "14\n"
          ]
        }
      ]
    },
    {
      "cell_type": "code",
      "source": [
        "# 02_08\n",
        "# Nhập vào giá trị của n nguyên dương không quá 106, \n",
        "# tính tổng các số nguyên dương không vượt quá n, chia hết cho 3\n",
        "a = int(input()) + 1\n",
        "c = 0\n",
        "for i in range(3,a,1):\n",
        "  if not(i%3):\n",
        "    c += i\n",
        "print(c)"
      ],
      "metadata": {
        "colab": {
          "base_uri": "https://localhost:8080/"
        },
        "id": "ds_7BeHFHBgK",
        "outputId": "95e4c219-04fa-42a6-b3b7-e0fab4f1e4d5"
      },
      "execution_count": null,
      "outputs": [
        {
          "output_type": "stream",
          "name": "stdout",
          "text": [
            "10\n",
            "18\n"
          ]
        }
      ]
    },
    {
      "cell_type": "code",
      "source": [
        "# 02_09\n",
        "# Nhập vào giá trị của n nguyên dương không quá 105, \n",
        "# tính tổng sau và in kết quả ra màn hình ,\n",
        "# chú ý kết quả lấy tới 3 số sau dấu thập phân. : S=1+1/2+1/3+1/4+….+1/n\n",
        "a = int(input()) + 1\n",
        "c = 0\n",
        "for i in range(1,a,1):\n",
        "  c += 1/i\n",
        "print(\"%.3f\" %c)"
      ],
      "metadata": {
        "colab": {
          "base_uri": "https://localhost:8080/"
        },
        "id": "qmlAGDgIH55R",
        "outputId": "78230c63-9f89-4a35-c4c8-bd34466ab996"
      },
      "execution_count": null,
      "outputs": [
        {
          "output_type": "stream",
          "name": "stdout",
          "text": [
            "2\n",
            "1.500\n"
          ]
        }
      ]
    },
    {
      "cell_type": "code",
      "source": [
        "# 02_10\n",
        "# Nhập vào giá trị của n nguyên dương không quá 105, \n",
        "# tính tổng sau và in kết quả ra màn hình ,: S=1/2+1/4+1/6+1/8+…….+1/(2n)\n",
        "a = int(input()) + 1\n",
        "c = 0\n",
        "for i in range(1,a,1):\n",
        "  c += 1/(2*i)\n",
        "print(\"%.2f\" %c)"
      ],
      "metadata": {
        "colab": {
          "base_uri": "https://localhost:8080/"
        },
        "id": "XdZ7vRuzIxl_",
        "outputId": "5feb974e-8484-4a77-e087-3f5a51029784"
      },
      "execution_count": null,
      "outputs": [
        {
          "output_type": "stream",
          "name": "stdout",
          "text": [
            "2\n",
            "0.75\n"
          ]
        }
      ]
    },
    {
      "cell_type": "code",
      "source": [
        "# 02_11\n",
        "# Nhập vào giá trị của n nguyên dương không quá 106, \n",
        "# tính tổng sau và in kết quả ra màn hình : S=−1+2−3+4−5+…..+(−1)^n∗n\n",
        "a = int(input()) + 1\n",
        "c = 0\n",
        "for i in range(1,a,1):\n",
        "  c += ((-1)**i)*i\n",
        "print(c)"
      ],
      "metadata": {
        "colab": {
          "base_uri": "https://localhost:8080/"
        },
        "id": "mXvmvV--JRSZ",
        "outputId": "e284088d-9b05-4a87-99f5-c884cb9bdffe"
      },
      "execution_count": null,
      "outputs": [
        {
          "output_type": "stream",
          "name": "stdout",
          "text": [
            "6\n",
            "3\n"
          ]
        }
      ]
    },
    {
      "cell_type": "code",
      "source": [
        "# 02_12\n",
        "# Nhập vào giá trị của n nguyên dương không quá 105, \n",
        "# tính tổng sau và in kết quả ra màn hình : S=2+4+6+8+…...+2∗n\n",
        "a = int(input()) + 1\n",
        "c = 0\n",
        "for i in range(1,a,1):\n",
        "  c += 2*i\n",
        "print(c)"
      ],
      "metadata": {
        "colab": {
          "base_uri": "https://localhost:8080/"
        },
        "id": "oRlOIL_EJ_UI",
        "outputId": "44c2dc37-70f9-4653-b11e-75f61fc9df59"
      },
      "execution_count": null,
      "outputs": [
        {
          "output_type": "stream",
          "name": "stdout",
          "text": [
            "4\n",
            "20\n"
          ]
        }
      ]
    },
    {
      "cell_type": "code",
      "source": [
        "# 02_13\n",
        "# Nhập vào giá trị của n nguyên dương không quá 105, \n",
        "# tính tổng sau và in kết quả ra màn hình : S=1+3+5+7+…..+2∗n−1\n",
        "a = int(input()) + 1\n",
        "c = 0\n",
        "for i in range(1,a,1):\n",
        "  c += 2*i - 1\n",
        "print(c)"
      ],
      "metadata": {
        "colab": {
          "base_uri": "https://localhost:8080/"
        },
        "id": "jBfriVynKZtY",
        "outputId": "987b138b-5a16-4018-ec62-cedbcb5b0b10"
      },
      "execution_count": null,
      "outputs": [
        {
          "output_type": "stream",
          "name": "stdout",
          "text": [
            "4\n",
            "16\n"
          ]
        }
      ]
    },
    {
      "cell_type": "code",
      "source": [
        "# 02_14\n",
        "# Nhập vào giá trị của n nguyên dương không quá 1000, \n",
        "# tính tổng sau và in kết quả ra màn hình : S=1^3+2^3+3^3+4^3+……+n^3\n",
        "a = int(input()) + 1\n",
        "c = 0\n",
        "for i in range(1,a,1):\n",
        "  c += i**3\n",
        "print(c)"
      ],
      "metadata": {
        "colab": {
          "base_uri": "https://localhost:8080/"
        },
        "id": "8DY1KPYZKu5w",
        "outputId": "f8b57098-7b64-4df3-9cfd-6b24705f1622"
      },
      "execution_count": null,
      "outputs": [
        {
          "output_type": "stream",
          "name": "stdout",
          "text": [
            "3\n",
            "36\n"
          ]
        }
      ]
    },
    {
      "cell_type": "code",
      "source": [
        "# 02_15\n",
        "# Nhập vào giá trị của n nguyên dương không quá 15, \n",
        "# in ra màn hình : n!=1.2.3……n\n",
        "a = int(input()) + 1\n",
        "c = 1\n",
        "for i in range(1,a,1):\n",
        "  c *= i\n",
        "print(c)"
      ],
      "metadata": {
        "colab": {
          "base_uri": "https://localhost:8080/"
        },
        "id": "YtiLDwHTLQOA",
        "outputId": "45f30c66-04df-44c7-ed47-9815d2ca5a32"
      },
      "execution_count": null,
      "outputs": [
        {
          "output_type": "stream",
          "name": "stdout",
          "text": [
            "1000\n",
            "402387260077093773543702433923003985719374864210714632543799910429938512398629020592044208486969404800479988610197196058631666872994808558901323829669944590997424504087073759918823627727188732519779505950995276120874975462497043601418278094646496291056393887437886487337119181045825783647849977012476632889835955735432513185323958463075557409114262417474349347553428646576611667797396668820291207379143853719588249808126867838374559731746136085379534524221586593201928090878297308431392844403281231558611036976801357304216168747609675871348312025478589320767169132448426236131412508780208000261683151027341827977704784635868170164365024153691398281264810213092761244896359928705114964975419909342221566832572080821333186116811553615836546984046708975602900950537616475847728421889679646244945160765353408198901385442487984959953319101723355556602139450399736280750137837615307127761926849034352625200015888535147331611702103968175921510907788019393178114194545257223865541461062892187960223838971476088506276862967146674697562911234082439208160153780889893964518263243671616762179168909779911903754031274622289988005195444414282012187361745992642956581746628302955570299024324153181617210465832036786906117260158783520751516284225540265170483304226143974286933061690897968482590125458327168226458066526769958652682272807075781391858178889652208164348344825993266043367660176999612831860788386150279465955131156552036093988180612138558600301435694527224206344631797460594682573103790084024432438465657245014402821885252470935190620929023136493273497565513958720559654228749774011413346962715422845862377387538230483865688976461927383814900140767310446640259899490222221765904339901886018566526485061799702356193897017860040811889729918311021171229845901641921068884387121855646124960798722908519296819372388642614839657382291123125024186649353143970137428531926649875337218940694281434118520158014123344828015051399694290153483077644569099073152433278288269864602789864321139083506217095002597389863554277196742822248757586765752344220207573630569498825087968928162753848863396909959826280956121450994871701244516461260379029309120889086942028510640182154399457156805941872748998094254742173582401063677404595741785160829230135358081840096996372524230560855903700624271243416909004153690105933983835777939410970027753472000000000000000000000000000000000000000000000000000000000000000000000000000000000000000000000000000000000000000000000000000000000000000000000000000000000000000000000000000000000000000000000000000000000000000000000000000000000000000000000000000000000\n"
          ]
        }
      ]
    },
    {
      "cell_type": "code",
      "source": [
        "# 02_16\n",
        "# Nhập x,y nguyên không âm và không quá 10, \n",
        "# tính x^y và in kết quả ra màn hình.\n",
        "a = int(input())\n",
        "b = int(input())\n",
        "print(a**b)"
      ],
      "metadata": {
        "colab": {
          "base_uri": "https://localhost:8080/"
        },
        "id": "uALP8pNQL5Co",
        "outputId": "a0476eff-70bf-4b55-9faf-4f9c958e86cb"
      },
      "execution_count": null,
      "outputs": [
        {
          "output_type": "stream",
          "name": "stdout",
          "text": [
            "2\n",
            "3\n",
            "8\n"
          ]
        }
      ]
    },
    {
      "cell_type": "code",
      "source": [
        "# 02_17\n",
        "# Nhập vào n(0≤n≤10^18), đếm số lượng chữ số của n và in ra kết quả.\n",
        "a = input()\n",
        "print(len(a))"
      ],
      "metadata": {
        "colab": {
          "base_uri": "https://localhost:8080/"
        },
        "id": "GSsSoyTEMuE4",
        "outputId": "4afeb3b6-007c-4d0c-aa06-8a64c001b0c7"
      },
      "execution_count": null,
      "outputs": [
        {
          "output_type": "stream",
          "name": "stdout",
          "text": [
            "12345678\n",
            "8\n"
          ]
        }
      ]
    },
    {
      "cell_type": "code",
      "source": [
        "# 02_18\n",
        "# Nhập vào n(0≤n≤10^18), tính tổng các chữ số của n và in ra kết quả.\n",
        "a = input()\n",
        "a = list(a)\n",
        "c = 0\n",
        "for i in a:\n",
        "  i = int(i)\n",
        "  c += i\n",
        "print(c)"
      ],
      "metadata": {
        "colab": {
          "base_uri": "https://localhost:8080/"
        },
        "id": "YGfdXxiRNHmo",
        "outputId": "83ba1697-d249-4425-94da-6528cb90d74b"
      },
      "execution_count": null,
      "outputs": [
        {
          "output_type": "stream",
          "name": "stdout",
          "text": [
            "1234\n",
            "10\n"
          ]
        }
      ]
    },
    {
      "cell_type": "code",
      "source": [
        "# 02_19\n",
        "# Nhập vào n(0≤n≤10^18), \n",
        "# tính tổng các chữ số là số chẵn và tổng các chữ số là số lẻ, \n",
        "# in ra 2 tổng chẵn lẻ trên 2 dòng.\n",
        "a = input()\n",
        "a = list(a)\n",
        "c1 = 0\n",
        "c2 = 0\n",
        "for i in a:\n",
        "  i = int(i)\n",
        "  if i & 1:\n",
        "    c1 += i\n",
        "  else:\n",
        "    c2 += i\n",
        "print(c2, c1)"
      ],
      "metadata": {
        "colab": {
          "base_uri": "https://localhost:8080/"
        },
        "id": "DasPHZikOeeW",
        "outputId": "52759c6f-fe7a-4a6d-cc93-1583f7a7a63d"
      },
      "execution_count": null,
      "outputs": [
        {
          "output_type": "stream",
          "name": "stdout",
          "text": [
            "1234\n",
            "6 4\n"
          ]
        }
      ]
    },
    {
      "cell_type": "code",
      "source": [
        "# 02_20\n",
        "# Nhập vào n(0≤n≤10^18), \n",
        "# tính số lượng các chữ số chẵn ,lẻ của n và in ra kết quả.\n",
        "a = input()\n",
        "a = list(a)\n",
        "c1 = 0\n",
        "c2 = 0\n",
        "for i in a:\n",
        "  i = int(i)\n",
        "  if i & 1:\n",
        "    c1 += 1\n",
        "  else:\n",
        "    c2 += 1\n",
        "print(c2, c1)"
      ],
      "metadata": {
        "colab": {
          "base_uri": "https://localhost:8080/"
        },
        "id": "rSQpsd4RPMtv",
        "outputId": "0ab9cc78-892d-42dd-85bb-220febc27048"
      },
      "execution_count": null,
      "outputs": [
        {
          "output_type": "stream",
          "name": "stdout",
          "text": [
            "1234555\n",
            "2 5\n"
          ]
        }
      ]
    },
    {
      "cell_type": "code",
      "source": [
        "# 02_21\n",
        "# Nhập vào n(0≤n≤10^18), \n",
        "# Đếm số lượng các chữ số của n là số nguyên tố.\n",
        "a = input()\n",
        "a = list(a)\n",
        "c = 0\n",
        "for i in a:\n",
        "  i = int(i)\n",
        "  if i==2 or i==3 or i==5 or i==7:\n",
        "    c += 1\n",
        "print(c)"
      ],
      "metadata": {
        "colab": {
          "base_uri": "https://localhost:8080/"
        },
        "id": "c6e1FysEP1iZ",
        "outputId": "6a7c05a9-4038-4e8d-80f4-aa8a28e242f2"
      },
      "execution_count": null,
      "outputs": [
        {
          "output_type": "stream",
          "name": "stdout",
          "text": [
            "1222333999888\n",
            "6\n"
          ]
        }
      ]
    },
    {
      "cell_type": "code",
      "source": [
        "# 02_22\n",
        "# Số đẹp được định nghĩa là số mà trong đó số lượng chữ số chẵn và lẻ của n là bằng nhau. \n",
        "# Nhập vào n(0≤n≤10^18), Nếu số nhập vào là số đẹp, thì in ra YES, trường hợp ngược lại in ra NO\n",
        "a = input()\n",
        "a = list(a)\n",
        "c1 = 0\n",
        "c2 = 0\n",
        "for i in a:\n",
        "  i = int(i)\n",
        "  if i & 1:\n",
        "    c1 += 1\n",
        "  else:\n",
        "    c2 += 1\n",
        "if c1 == c2:\n",
        "  print(\"YES\")\n",
        "else:\n",
        "  print(\"NO\")"
      ],
      "metadata": {
        "colab": {
          "base_uri": "https://localhost:8080/"
        },
        "id": "yc372KMPR5b3",
        "outputId": "56c6b74d-be2a-4b1c-b375-c69a2c16dcd4"
      },
      "execution_count": null,
      "outputs": [
        {
          "output_type": "stream",
          "name": "stdout",
          "text": [
            "111222\n",
            "YES\n"
          ]
        }
      ]
    },
    {
      "cell_type": "code",
      "source": [
        "# 02_23\n",
        "# Đếm số cách đặt 2 con mã trên bàn cờ vua cỡ k×k \n",
        "# với k=1,2,3,..n sao cho chúng không ăn nhau, \n",
        "# 2 con mã này được coi là giống nhau."
      ],
      "metadata": {
        "id": "oCGbtCHFScLm"
      },
      "execution_count": null,
      "outputs": []
    },
    {
      "cell_type": "code",
      "source": [
        "# 02_24\n",
        "# Có n quả táo và m cái hộp, \n",
        "# tìm số cách chia n quả táo này vào m hộp sao cho hộp nào cũng có ít nhất 1 quả táo."
      ],
      "metadata": {
        "id": "aWY_XWaRTCZ_"
      },
      "execution_count": null,
      "outputs": []
    },
    {
      "cell_type": "code",
      "source": [
        "# 02_25\n",
        "# Có n đứa trẻ và m quả táo, \n",
        "# đếm số cách chia táo cho n đứa trẻ, \n",
        "# không nhất thiết đứa trẻ nào cũng phải có táo. \n",
        "# Ví dụ, có 3 đứa trẻ và 2 quả táo, có những cách chia như sau (0,0,2),(0,2,0),(2,0,0),(1,1,0),(0,1,1),(1,0,1)"
      ],
      "metadata": {
        "id": "0ZoGl3PATbY5"
      },
      "execution_count": null,
      "outputs": []
    },
    {
      "cell_type": "code",
      "source": [
        "# 02_26\n",
        "# Đếm chữ số 0 tận cùng của n!\n",
        "a = int(input()) + 1\n",
        "c = 1\n",
        "for i in range(1,a,1):\n",
        "  c *= i\n",
        "c = str(c)\n",
        "b = len(c) - 1\n",
        "d = 0\n",
        "for i in range(b,-1,-1):\n",
        "  if c[i] != '0':\n",
        "    break\n",
        "  d += 1\n",
        "print(d)"
      ],
      "metadata": {
        "colab": {
          "base_uri": "https://localhost:8080/"
        },
        "id": "pmLt_gh1Tr3d",
        "outputId": "61ec3b74-fd1f-438b-d932-e16b92fd2988"
      },
      "execution_count": null,
      "outputs": [
        {
          "output_type": "stream",
          "name": "stdout",
          "text": [
            "1000\n",
            "249\n"
          ]
        }
      ]
    }
  ]
}