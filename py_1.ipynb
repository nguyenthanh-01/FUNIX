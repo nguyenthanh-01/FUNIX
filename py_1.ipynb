{
  "nbformat": 4,
  "nbformat_minor": 0,
  "metadata": {
    "colab": {
      "name": "py_1.ipynb",
      "provenance": [],
      "collapsed_sections": [],
      "authorship_tag": "ABX9TyOi+LDoTR2UuJRZPtHZhJnR",
      "include_colab_link": true
    },
    "kernelspec": {
      "name": "python3",
      "display_name": "Python 3"
    },
    "language_info": {
      "name": "python"
    }
  },
  "cells": [
    {
      "cell_type": "markdown",
      "metadata": {
        "id": "view-in-github",
        "colab_type": "text"
      },
      "source": [
        "<a href=\"https://colab.research.google.com/github/nguyenthanh-01/FUNIX/blob/main/py_1.ipynb\" target=\"_parent\"><img src=\"https://colab.research.google.com/assets/colab-badge.svg\" alt=\"Open In Colab\"/></a>"
      ]
    },
    {
      "cell_type": "code",
      "execution_count": null,
      "metadata": {
        "colab": {
          "base_uri": "https://localhost:8080/"
        },
        "id": "smLtN03xeGFe",
        "outputId": "3cb559b5-8787-415d-ad1f-ada72d4f5c96"
      },
      "outputs": [
        {
          "output_type": "stream",
          "name": "stdout",
          "text": [
            "<class 'int'>\n"
          ]
        }
      ],
      "source": [
        "# kiểu dữ liệu số nguyên\n",
        "a = 2\n",
        "print(type(a))"
      ]
    },
    {
      "cell_type": "code",
      "source": [
        "# kiểu dữ liệu số thực\n",
        "a = 2.2\n",
        "print(type(a))"
      ],
      "metadata": {
        "colab": {
          "base_uri": "https://localhost:8080/"
        },
        "id": "zTZ7yHGTfKdU",
        "outputId": "b4ccd690-6221-4db6-97c5-0f6baeb2fa29"
      },
      "execution_count": null,
      "outputs": [
        {
          "output_type": "stream",
          "name": "stdout",
          "text": [
            "<class 'float'>\n"
          ]
        }
      ]
    },
    {
      "cell_type": "code",
      "source": [
        "# kiểu dữ liệu ký tự\n",
        "a = \"nhok\"\n",
        "print(type(a))"
      ],
      "metadata": {
        "colab": {
          "base_uri": "https://localhost:8080/"
        },
        "id": "uLdIYp7sfQCq",
        "outputId": "c09529cb-2c36-4d3e-b34f-f002691d9dc5"
      },
      "execution_count": null,
      "outputs": [
        {
          "output_type": "stream",
          "name": "stdout",
          "text": [
            "<class 'str'>\n"
          ]
        }
      ]
    },
    {
      "cell_type": "code",
      "source": [
        "# kiểu dữ liệu đúng sai\n",
        "a = False\n",
        "print(type(a))"
      ],
      "metadata": {
        "colab": {
          "base_uri": "https://localhost:8080/"
        },
        "id": "KdYErT12fcyK",
        "outputId": "8e785602-55a1-4e00-a7d7-7fac2a52d944"
      },
      "execution_count": null,
      "outputs": [
        {
          "output_type": "stream",
          "name": "stdout",
          "text": [
            "<class 'bool'>\n"
          ]
        }
      ]
    },
    {
      "cell_type": "code",
      "source": [
        "\n",
        "# chuyển số nguyên sang số thực\n",
        "a = 2 * 1.0\n",
        "print(type(a))"
      ],
      "metadata": {
        "colab": {
          "base_uri": "https://localhost:8080/"
        },
        "id": "fb4clbXtfo1N",
        "outputId": "56ffdb4f-acfc-4210-e39e-bd86f02df7d9"
      },
      "execution_count": null,
      "outputs": [
        {
          "output_type": "stream",
          "name": "stdout",
          "text": [
            "<class 'float'>\n"
          ]
        }
      ]
    },
    {
      "cell_type": "code",
      "source": [
        "\n",
        "# chuyển số nguyên sang ký tự\n",
        "a = str(2)\n",
        "print(type(a))"
      ],
      "metadata": {
        "colab": {
          "base_uri": "https://localhost:8080/"
        },
        "id": "qUe11lWMgujq",
        "outputId": "0585b2ec-46c8-4756-fe4e-801e6113f18e"
      },
      "execution_count": null,
      "outputs": [
        {
          "output_type": "stream",
          "name": "stdout",
          "text": [
            "<class 'str'>\n"
          ]
        }
      ]
    },
    {
      "cell_type": "code",
      "source": [
        "\n",
        "# chuyển số nguyên sang đúng sai\n",
        "a = bool(2)\n",
        "print(type(a))"
      ],
      "metadata": {
        "colab": {
          "base_uri": "https://localhost:8080/"
        },
        "id": "ANnQhe2xhmeJ",
        "outputId": "02d8d341-7e48-482a-b880-3e3a39db5e2b"
      },
      "execution_count": null,
      "outputs": [
        {
          "output_type": "stream",
          "name": "stdout",
          "text": [
            "<class 'bool'>\n"
          ]
        }
      ]
    },
    {
      "cell_type": "code",
      "source": [
        "\n",
        "# chuyển số thực sang số nguyên\n",
        "a = int(2.2)\n",
        "print(type(a))"
      ],
      "metadata": {
        "colab": {
          "base_uri": "https://localhost:8080/"
        },
        "id": "U9UdBglWidBG",
        "outputId": "40ad2a20-a632-4857-8e67-f50a11f1beb5"
      },
      "execution_count": null,
      "outputs": [
        {
          "output_type": "stream",
          "name": "stdout",
          "text": [
            "<class 'int'>\n"
          ]
        }
      ]
    },
    {
      "cell_type": "code",
      "source": [
        "\n",
        "# chuyển ký tự sang số nguyên\n",
        "a = int('2')\n",
        "print(type(a))"
      ],
      "metadata": {
        "colab": {
          "base_uri": "https://localhost:8080/"
        },
        "id": "h89nyiKWlDt4",
        "outputId": "34c5fc26-d253-4131-a5ed-81f5a699416a"
      },
      "execution_count": null,
      "outputs": [
        {
          "output_type": "stream",
          "name": "stdout",
          "text": [
            "<class 'int'>\n"
          ]
        }
      ]
    },
    {
      "cell_type": "code",
      "source": [
        "\n",
        "# chuyển đúng sai sang số nguyên\n",
        "a = int(True)\n",
        "print(type(a))"
      ],
      "metadata": {
        "colab": {
          "base_uri": "https://localhost:8080/"
        },
        "id": "4neAjoe1nh2q",
        "outputId": "da3dac21-56f5-40ce-b84b-dbfd6ba26fc9"
      },
      "execution_count": null,
      "outputs": [
        {
          "output_type": "stream",
          "name": "stdout",
          "text": [
            "<class 'int'>\n"
          ]
        }
      ]
    },
    {
      "cell_type": "code",
      "source": [
        "\n",
        "# địa chỉ\n",
        "a = 2\n",
        "print(id(a))"
      ],
      "metadata": {
        "colab": {
          "base_uri": "https://localhost:8080/"
        },
        "id": "ztt35H7bvw8h",
        "outputId": "a28f3d2b-9b5c-48cf-ce96-0b26e00f504c"
      },
      "execution_count": null,
      "outputs": [
        {
          "output_type": "stream",
          "name": "stdout",
          "text": [
            "11256096\n"
          ]
        }
      ]
    },
    {
      "cell_type": "code",
      "source": [
        "\n",
        "# hiển thị\n",
        "a = 2\n",
        "b = 3\n",
        "print(a, b, sep=\"\\n\")\n",
        "print('''\n",
        "Nguyễn\n",
        "Thành\n",
        "''')"
      ],
      "metadata": {
        "colab": {
          "base_uri": "https://localhost:8080/"
        },
        "id": "u7IUbQUlwWqh",
        "outputId": "cc5fc1dc-f4f9-40d5-e18c-ee06aac50819"
      },
      "execution_count": null,
      "outputs": [
        {
          "output_type": "stream",
          "name": "stdout",
          "text": [
            "2\n",
            "3\n",
            "\n",
            "Nguyễn\n",
            "Thành\n",
            "\n"
          ]
        }
      ]
    },
    {
      "cell_type": "code",
      "source": [
        "# nhập\n",
        "a = input(\"nhập vào 1 chuỗi ký tự: \")\n",
        "b = int(input(\"nhập vào 1 số nguyên: \"))\n",
        "c = float(input(\"nhập vào 1 số thực: \"))\n",
        "d = bool(input(\"nhập vào đúng sai: \"))\n",
        "print(type(a), type(b), type(c), type(d), sep=\"\\n\")"
      ],
      "metadata": {
        "id": "2Cw2KQObvD0T",
        "outputId": "547cc255-3ce9-4b7c-eacd-3a36e13e2939",
        "colab": {
          "base_uri": "https://localhost:8080/"
        }
      },
      "execution_count": null,
      "outputs": [
        {
          "output_type": "stream",
          "name": "stdout",
          "text": [
            "nhập vào 1 chuỗi ký tự: th\n",
            "nhập vào 1 số nguyên: 2\n",
            "nhập vào 1 số thực: 1.5\n",
            "nhập vào đúng sai: True\n",
            "<class 'str'>\n",
            "<class 'int'>\n",
            "<class 'float'>\n",
            "<class 'bool'>\n"
          ]
        }
      ]
    },
    {
      "cell_type": "code",
      "source": [
        "# số thập phân\n",
        "a = 10\n",
        "print(a)\n",
        "print(type(a))"
      ],
      "metadata": {
        "id": "SVngo2ITxr3w",
        "colab": {
          "base_uri": "https://localhost:8080/"
        },
        "outputId": "f595d8d4-ac93-4542-d4b0-b466cd629850"
      },
      "execution_count": null,
      "outputs": [
        {
          "output_type": "stream",
          "name": "stdout",
          "text": [
            "10\n",
            "<class 'int'>\n"
          ]
        }
      ]
    },
    {
      "cell_type": "code",
      "source": [
        "# số thập lục phân\n",
        "a = hex(10)\n",
        "print(a)\n",
        "print(type(a))"
      ],
      "metadata": {
        "colab": {
          "base_uri": "https://localhost:8080/"
        },
        "id": "61LdXevX-c3Z",
        "outputId": "12295a69-341f-4250-b8c7-91516b9cab94"
      },
      "execution_count": null,
      "outputs": [
        {
          "output_type": "stream",
          "name": "stdout",
          "text": [
            "0xa\n",
            "<class 'str'>\n"
          ]
        }
      ]
    },
    {
      "cell_type": "code",
      "source": [
        "# số bát phân\n",
        "a = oct(10)\n",
        "print(a)\n",
        "print(type(a))"
      ],
      "metadata": {
        "colab": {
          "base_uri": "https://localhost:8080/"
        },
        "id": "mzMjUe3h_njm",
        "outputId": "c6cc0f8d-3911-4992-bd2e-250d7ed4f498"
      },
      "execution_count": null,
      "outputs": [
        {
          "output_type": "stream",
          "name": "stdout",
          "text": [
            "0o12\n",
            "<class 'str'>\n"
          ]
        }
      ]
    },
    {
      "cell_type": "code",
      "source": [
        "# số nhị phân\n",
        "a = bin(10)\n",
        "print(a)\n",
        "print(type(a))"
      ],
      "metadata": {
        "colab": {
          "base_uri": "https://localhost:8080/"
        },
        "id": "Je47JSOk_w2h",
        "outputId": "80d6cbb1-5996-4c45-dffe-8c80580622af"
      },
      "execution_count": null,
      "outputs": [
        {
          "output_type": "stream",
          "name": "stdout",
          "text": [
            "0b1010\n",
            "<class 'str'>\n"
          ]
        }
      ]
    },
    {
      "cell_type": "code",
      "source": [
        "# chuyển số nhị phân sang thập phân\n",
        "a = bin(10)\n",
        "a = int(a, 2)\n",
        "print(a)\n",
        "print(type(a))"
      ],
      "metadata": {
        "colab": {
          "base_uri": "https://localhost:8080/"
        },
        "id": "bdObvhzVdOUz",
        "outputId": "15e784ac-7d50-4dcd-eb24-d17c048ff095"
      },
      "execution_count": null,
      "outputs": [
        {
          "output_type": "stream",
          "name": "stdout",
          "text": [
            "10\n",
            "<class 'int'>\n"
          ]
        }
      ]
    },
    {
      "cell_type": "code",
      "source": [
        "# số phẩy thực\n",
        "a = 0.11111\n",
        "b = 0.55555\n",
        "c = 0.00000\n",
        "print(round(a, 3), round(b, 3), round(c, 3), sep=\"\\n\")\n",
        "print(\"%.3f\" %c)\n",
        "# \"% \" %( )"
      ],
      "metadata": {
        "colab": {
          "base_uri": "https://localhost:8080/"
        },
        "id": "Nq6rxEswD7QL",
        "outputId": "8cfabf34-1f14-4f3a-8474-c78db26f4a66"
      },
      "execution_count": null,
      "outputs": [
        {
          "output_type": "stream",
          "name": "stdout",
          "text": [
            "0.111\n",
            "0.556\n",
            "0.0\n",
            "0.000\n"
          ]
        }
      ]
    },
    {
      "cell_type": "code",
      "source": [
        "# phép cộng\n",
        "a = 5\n",
        "b = 6\n",
        "print(a + b)"
      ],
      "metadata": {
        "colab": {
          "base_uri": "https://localhost:8080/"
        },
        "id": "H9jfERJuIASh",
        "outputId": "2740b9fc-cbc1-4ad1-9b71-e65cf11b8e74"
      },
      "execution_count": null,
      "outputs": [
        {
          "output_type": "stream",
          "name": "stdout",
          "text": [
            "11\n"
          ]
        }
      ]
    },
    {
      "cell_type": "code",
      "source": [
        "# phép trừ\n",
        "a = 5\n",
        "b = 6\n",
        "print(a - b)"
      ],
      "metadata": {
        "colab": {
          "base_uri": "https://localhost:8080/"
        },
        "id": "IuvdLFvxIJiJ",
        "outputId": "3151c9fc-b03c-4f6e-ad11-da9255a9bb37"
      },
      "execution_count": null,
      "outputs": [
        {
          "output_type": "stream",
          "name": "stdout",
          "text": [
            "-1\n"
          ]
        }
      ]
    },
    {
      "cell_type": "code",
      "source": [
        "# phép nhân\n",
        "a = 5\n",
        "b = 6\n",
        "print(a * b)"
      ],
      "metadata": {
        "colab": {
          "base_uri": "https://localhost:8080/"
        },
        "id": "sg0OIczNIUyF",
        "outputId": "27bd3cbc-6720-4a0a-b863-4a3e2891871e"
      },
      "execution_count": null,
      "outputs": [
        {
          "output_type": "stream",
          "name": "stdout",
          "text": [
            "30\n"
          ]
        }
      ]
    },
    {
      "cell_type": "code",
      "source": [
        "# phép chia có dư\n",
        "a = 5 \n",
        "b = 6\n",
        "print(a / b)"
      ],
      "metadata": {
        "colab": {
          "base_uri": "https://localhost:8080/"
        },
        "id": "mijIADvYIyLs",
        "outputId": "adc5466f-75ef-4ec6-ab0d-f791af3242bf"
      },
      "execution_count": null,
      "outputs": [
        {
          "output_type": "stream",
          "name": "stdout",
          "text": [
            "0.8333333333333334\n"
          ]
        }
      ]
    },
    {
      "cell_type": "code",
      "source": [
        "# phép mũ\n",
        "a = 5\n",
        "b = 6\n",
        "print(a ** b)"
      ],
      "metadata": {
        "colab": {
          "base_uri": "https://localhost:8080/"
        },
        "id": "SUUqRlZLJAML",
        "outputId": "4d6fe4b3-61c0-485f-c0ec-76b64ce0d17b"
      },
      "execution_count": null,
      "outputs": [
        {
          "output_type": "stream",
          "name": "stdout",
          "text": [
            "15625\n"
          ]
        }
      ]
    },
    {
      "cell_type": "code",
      "source": [
        "# phép chia ko dư\n",
        "a = 5\n",
        "b = 6\n",
        "print(a // b)"
      ],
      "metadata": {
        "colab": {
          "base_uri": "https://localhost:8080/"
        },
        "id": "BC4P1T7HJUOH",
        "outputId": "38e34d0c-3ac3-4f36-ba64-c85c17ad548c"
      },
      "execution_count": null,
      "outputs": [
        {
          "output_type": "stream",
          "name": "stdout",
          "text": [
            "0\n"
          ]
        }
      ]
    },
    {
      "cell_type": "code",
      "source": [
        "# căn bậc n\n",
        "a = 9\n",
        "n = 2\n",
        "print(a ** (1 / n))"
      ],
      "metadata": {
        "colab": {
          "base_uri": "https://localhost:8080/"
        },
        "id": "0cvf-j2tJnjK",
        "outputId": "7c7a6e20-24a0-4b8b-966d-929cc1023508"
      },
      "execution_count": null,
      "outputs": [
        {
          "output_type": "stream",
          "name": "stdout",
          "text": [
            "3.0\n"
          ]
        }
      ]
    },
    {
      "cell_type": "code",
      "source": [
        "# phép chia lấy phần dư\n",
        "a = 11\n",
        "b = 5\n",
        "print(a % b)"
      ],
      "metadata": {
        "colab": {
          "base_uri": "https://localhost:8080/"
        },
        "id": "Dt1-fMp5KSgB",
        "outputId": "064be231-e8f8-4dff-d953-6303dcf2f449"
      },
      "execution_count": null,
      "outputs": [
        {
          "output_type": "stream",
          "name": "stdout",
          "text": [
            "1\n"
          ]
        }
      ]
    },
    {
      "cell_type": "code",
      "source": [
        "# phép hoặc\n",
        "a = 0\n",
        "b = 6\n",
        "print(a > 0 or b > 0)"
      ],
      "metadata": {
        "colab": {
          "base_uri": "https://localhost:8080/"
        },
        "id": "YQztfxXydqUp",
        "outputId": "82c22c7f-2612-4f5c-8012-3a460cf2c6ca"
      },
      "execution_count": null,
      "outputs": [
        {
          "output_type": "stream",
          "name": "stdout",
          "text": [
            "True\n"
          ]
        }
      ]
    },
    {
      "cell_type": "code",
      "source": [
        "# phép và\n",
        "a = 5\n",
        "b = 6\n",
        "print(a > 0 and b > 0)"
      ],
      "metadata": {
        "colab": {
          "base_uri": "https://localhost:8080/"
        },
        "id": "RCheNpijennd",
        "outputId": "e2603d50-e93f-4417-8c45-315fd653fc1f"
      },
      "execution_count": null,
      "outputs": [
        {
          "output_type": "stream",
          "name": "stdout",
          "text": [
            "True\n"
          ]
        }
      ]
    },
    {
      "cell_type": "code",
      "source": [
        "# phép đảo ngược\n",
        "a = 5 \n",
        "print(not (a < 0))"
      ],
      "metadata": {
        "colab": {
          "base_uri": "https://localhost:8080/"
        },
        "id": "ZVE3oUJjeysl",
        "outputId": "ce75dc6e-9d9b-4bf0-84a4-7d6a624e627e"
      },
      "execution_count": null,
      "outputs": [
        {
          "output_type": "stream",
          "name": "stdout",
          "text": [
            "True\n"
          ]
        }
      ]
    },
    {
      "cell_type": "code",
      "source": [
        "# phép so sánh\n",
        "a = 5\n",
        "b = 6\n",
        "print(a > b, a < b, a >= b, a <= b, a != b, a == b, sep=\"\\n\")"
      ],
      "metadata": {
        "colab": {
          "base_uri": "https://localhost:8080/"
        },
        "id": "UP1LMoQWfYcQ",
        "outputId": "7b3bca8b-7d63-43de-ca8a-367ad660ddf3"
      },
      "execution_count": null,
      "outputs": [
        {
          "output_type": "stream",
          "name": "stdout",
          "text": [
            "False\n",
            "True\n",
            "False\n",
            "True\n",
            "True\n",
            "False\n"
          ]
        }
      ]
    },
    {
      "cell_type": "code",
      "source": [
        "# phép bit &\n",
        "a = 1\n",
        "b = 1\n",
        "c = 0\n",
        "d = 0\n",
        "print(a & b, c & d, a & c, sep=\"\\n\")"
      ],
      "metadata": {
        "colab": {
          "base_uri": "https://localhost:8080/"
        },
        "id": "58SMK6dagMRt",
        "outputId": "d5c9a81b-7100-486d-cd43-16a580473f1d"
      },
      "execution_count": null,
      "outputs": [
        {
          "output_type": "stream",
          "name": "stdout",
          "text": [
            "1\n",
            "0\n",
            "0\n"
          ]
        }
      ]
    },
    {
      "cell_type": "code",
      "source": [
        "\n",
        "# phép bit |\n",
        "a = 1\n",
        "b = 1\n",
        "c = 0\n",
        "d = 0\n",
        "print(a | b, c | d, a | c, sep=\"\\n\")"
      ],
      "metadata": {
        "colab": {
          "base_uri": "https://localhost:8080/"
        },
        "id": "8NrwD2achuIk",
        "outputId": "108f4973-2375-4ee2-edd5-730d2b9a0153"
      },
      "execution_count": null,
      "outputs": [
        {
          "output_type": "stream",
          "name": "stdout",
          "text": [
            "1\n",
            "0\n",
            "1\n"
          ]
        }
      ]
    },
    {
      "cell_type": "code",
      "source": [
        "# phép bit ^\n",
        "a = 1\n",
        "b = 1\n",
        "c = 0\n",
        "d = 0\n",
        "print(a ^ b, c ^ d, a ^ c, sep=\"\\n\")"
      ],
      "metadata": {
        "colab": {
          "base_uri": "https://localhost:8080/"
        },
        "id": "76R-9fadiFmO",
        "outputId": "9fa133e5-8717-4e2d-d37a-bc0c95ae4ed2"
      },
      "execution_count": null,
      "outputs": [
        {
          "output_type": "stream",
          "name": "stdout",
          "text": [
            "0\n",
            "0\n",
            "1\n"
          ]
        }
      ]
    },
    {
      "cell_type": "code",
      "source": [
        "# phép bit ~\n",
        "a = 1\n",
        "b = 0\n",
        "print(~a, ~b, sep=\"\\n\")\n",
        "# a = 0 001, ~a = 1 110\n",
        "# b = 0 000, ~b = 1 111"
      ],
      "metadata": {
        "colab": {
          "base_uri": "https://localhost:8080/"
        },
        "id": "TB3VP2CfiOop",
        "outputId": "02fccb94-927d-4f87-be1b-9db78fb3b567"
      },
      "execution_count": null,
      "outputs": [
        {
          "output_type": "stream",
          "name": "stdout",
          "text": [
            "-2\n",
            "-1\n"
          ]
        }
      ]
    },
    {
      "cell_type": "code",
      "source": [
        "# phép bù bit ~\n",
        "a = 1\n",
        "b = 0\n",
        "print(~a + 1, ~b + 1, sep=\"\\n\")\n",
        "# a = 0 001, ~a =   1 111\n",
        "# b = 0 000, ~b = 1|0 000"
      ],
      "metadata": {
        "colab": {
          "base_uri": "https://localhost:8080/"
        },
        "id": "jAy7gwNwjCci",
        "outputId": "5cdca3b6-caa4-4609-ae29-f0f14b1b4f62"
      },
      "execution_count": null,
      "outputs": [
        {
          "output_type": "stream",
          "name": "stdout",
          "text": [
            "-1\n",
            "0\n"
          ]
        }
      ]
    },
    {
      "cell_type": "code",
      "source": [
        "# chứng minh phép bù bit ~\n",
        "#    0 001 (a)\n",
        "#   +\n",
        "#    1 111 (-a)\n",
        "# =1|0 000 (0)\n",
        "\n",
        "a = 1\n",
        "print(a + (~a + 1))"
      ],
      "metadata": {
        "colab": {
          "base_uri": "https://localhost:8080/"
        },
        "id": "vwLhHkEyAPtv",
        "outputId": "01bfe164-db88-4f39-bbd9-5610ee11955b"
      },
      "execution_count": null,
      "outputs": [
        {
          "output_type": "stream",
          "name": "stdout",
          "text": [
            "0\n"
          ]
        }
      ]
    },
    {
      "cell_type": "code",
      "source": [
        "# phép bit >>\n",
        "a = 1\n",
        "print(a >> 1)\n",
        "# 0001 >> 0000"
      ],
      "metadata": {
        "colab": {
          "base_uri": "https://localhost:8080/"
        },
        "id": "XrRleUo3MhlK",
        "outputId": "b70887c2-69d4-4f65-a3d7-7bd4c87ec0b0"
      },
      "execution_count": null,
      "outputs": [
        {
          "output_type": "stream",
          "name": "stdout",
          "text": [
            "0\n"
          ]
        }
      ]
    },
    {
      "cell_type": "code",
      "source": [
        "# phép bit <<\n",
        "a = 1\n",
        "print(a << 1)\n",
        "# 0001 << 0010"
      ],
      "metadata": {
        "colab": {
          "base_uri": "https://localhost:8080/"
        },
        "id": "1huWgYwlQX-y",
        "outputId": "68075a9b-6ca9-43c4-9ff6-ceb9a62159a1"
      },
      "execution_count": null,
      "outputs": [
        {
          "output_type": "stream",
          "name": "stdout",
          "text": [
            "2\n"
          ]
        }
      ]
    },
    {
      "cell_type": "code",
      "source": [
        "# kiểm tra 1 số có phải số lẻ bằng bit &\n",
        "a = int(input())\n",
        "if a & 1:\n",
        "  print(\"số vừa nhập là số lẻ\")"
      ],
      "metadata": {
        "colab": {
          "base_uri": "https://localhost:8080/"
        },
        "id": "4DQXOpi4zjdZ",
        "outputId": "41f646eb-17c1-460b-f351-b66604f1a568"
      },
      "execution_count": null,
      "outputs": [
        {
          "output_type": "stream",
          "name": "stdout",
          "text": [
            "3\n",
            "số vừa nhập là số lẻ\n"
          ]
        }
      ]
    },
    {
      "cell_type": "code",
      "source": [
        "# kiểm tra 1 số có phải số chẵn bằng bit &\n",
        "a = int(input())\n",
        "if not (a & 1):\n",
        "  print(\"số vừa nhập là số chẵn\")"
      ],
      "metadata": {
        "colab": {
          "base_uri": "https://localhost:8080/"
        },
        "id": "TKjnLDKBgW4x",
        "outputId": "94d046bc-2af2-4d1e-b6d7-67291cadec85"
      },
      "execution_count": null,
      "outputs": [
        {
          "output_type": "stream",
          "name": "stdout",
          "text": [
            "4\n",
            "số vừa nhập là số chẵn\n"
          ]
        }
      ]
    },
    {
      "cell_type": "code",
      "source": [
        "# kiểm tra 1 số có phải lũy thừa của 2 bằng bit &\n",
        "a = int(input())\n",
        "if not (a & (a - 1)):\n",
        "  print(\"số vừa nhập là lũy thừa của 2\")"
      ],
      "metadata": {
        "colab": {
          "base_uri": "https://localhost:8080/"
        },
        "id": "fGCms45VqIvZ",
        "outputId": "7c1a1fb5-6b7b-4812-8c8b-89937b1e68eb"
      },
      "execution_count": null,
      "outputs": [
        {
          "output_type": "stream",
          "name": "stdout",
          "text": [
            "128\n",
            "số vừa nhập là lũy thừa của 2\n"
          ]
        }
      ]
    },
    {
      "cell_type": "code",
      "source": [
        "# hoán đổi 2 số bằng bit ^\n",
        "a = 5\n",
        "b = 6\n",
        "a ^= b\n",
        "b ^= a\n",
        "a ^= b\n",
        "print (a, b, sep=\"\\n\")"
      ],
      "metadata": {
        "colab": {
          "base_uri": "https://localhost:8080/"
        },
        "id": "7R0r_cUR6Q8S",
        "outputId": "1a3afaae-32dc-4046-b3c7-1995134f8cdf"
      },
      "execution_count": null,
      "outputs": [
        {
          "output_type": "stream",
          "name": "stdout",
          "text": [
            "6\n",
            "5\n"
          ]
        }
      ]
    },
    {
      "cell_type": "code",
      "source": [
        "# phép in, not in\n",
        "a = 1\n",
        "b = [1, 2, 3]\n",
        "print(a in b)\n",
        "print(a not in b)"
      ],
      "metadata": {
        "colab": {
          "base_uri": "https://localhost:8080/"
        },
        "id": "T21niOxM2ifb",
        "outputId": "49581276-1f27-470c-a071-72352320ce25"
      },
      "execution_count": null,
      "outputs": [
        {
          "output_type": "stream",
          "name": "stdout",
          "text": [
            "True\n",
            "False\n"
          ]
        }
      ]
    },
    {
      "cell_type": "code",
      "source": [
        "# phép is, is not\n",
        "a = 5\n",
        "b = 5.0\n",
        "print(a == b, a != b, sep=\"\\n\")\n",
        "print(a is b, a is not b, sep=\"\\n\")"
      ],
      "metadata": {
        "colab": {
          "base_uri": "https://localhost:8080/"
        },
        "id": "ZKmRsjSa30zL",
        "outputId": "043b5608-d794-4ae7-b480-bacc3dc482a1"
      },
      "execution_count": null,
      "outputs": [
        {
          "output_type": "stream",
          "name": "stdout",
          "text": [
            "True\n",
            "False\n",
            "False\n",
            "True\n"
          ]
        }
      ]
    },
    {
      "cell_type": "code",
      "source": [
        "# phép if\n",
        "a = 5\n",
        "b = 6\n",
        "if a < b:\n",
        "  print(1)\n",
        "if b > a:\n",
        "  print(2)"
      ],
      "metadata": {
        "colab": {
          "base_uri": "https://localhost:8080/"
        },
        "id": "x5KsIRKB5U8b",
        "outputId": "86c554ba-afde-4344-e1d5-c42cada9d794"
      },
      "execution_count": null,
      "outputs": [
        {
          "output_type": "stream",
          "name": "stdout",
          "text": [
            "1\n",
            "2\n"
          ]
        }
      ]
    },
    {
      "cell_type": "code",
      "source": [
        "# phép else\n",
        "a = 5 \n",
        "b = 6\n",
        "if a > b:\n",
        "  print(1)\n",
        "else:\n",
        "  print(2)"
      ],
      "metadata": {
        "colab": {
          "base_uri": "https://localhost:8080/"
        },
        "id": "mnlKEoYE6hh4",
        "outputId": "f1f44355-ea46-45b0-8faf-3ef7a3413ec8"
      },
      "execution_count": null,
      "outputs": [
        {
          "output_type": "stream",
          "name": "stdout",
          "text": [
            "2\n"
          ]
        }
      ]
    },
    {
      "cell_type": "code",
      "source": [
        "# phép elif\n",
        "a = 5\n",
        "b = 6\n",
        "if a < b:\n",
        "  print(1)\n",
        "elif b > a:\n",
        "  print(2)"
      ],
      "metadata": {
        "colab": {
          "base_uri": "https://localhost:8080/"
        },
        "id": "2v1zlkGD7mE0",
        "outputId": "f3ad18f3-8e07-48c0-d5b3-5efd6d586f27"
      },
      "execution_count": null,
      "outputs": [
        {
          "output_type": "stream",
          "name": "stdout",
          "text": [
            "1\n"
          ]
        }
      ]
    },
    {
      "cell_type": "code",
      "source": [
        "# khai báo nhiều biến\n",
        "a, b = 5, 6\n",
        "print(a, b, sep=\"\\n\")\n",
        "a, b = b, a\n",
        "print(a, b, sep=\"\\n\")"
      ],
      "metadata": {
        "colab": {
          "base_uri": "https://localhost:8080/"
        },
        "id": "GpfVP-gtzMJ0",
        "outputId": "cbb9be8d-15f2-4790-9a0e-205774b9a852"
      },
      "execution_count": null,
      "outputs": [
        {
          "output_type": "stream",
          "name": "stdout",
          "text": [
            "5\n",
            "6\n",
            "6\n",
            "5\n"
          ]
        }
      ]
    }
  ]
}