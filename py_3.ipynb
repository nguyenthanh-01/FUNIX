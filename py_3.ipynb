{
  "nbformat": 4,
  "nbformat_minor": 0,
  "metadata": {
    "colab": {
      "name": "py_3.ipynb",
      "provenance": [],
      "collapsed_sections": [],
      "authorship_tag": "ABX9TyN5BjM5fjMbKgtqGxzYJjQh",
      "include_colab_link": true
    },
    "kernelspec": {
      "name": "python3",
      "display_name": "Python 3"
    },
    "language_info": {
      "name": "python"
    }
  },
  "cells": [
    {
      "cell_type": "markdown",
      "metadata": {
        "id": "view-in-github",
        "colab_type": "text"
      },
      "source": [
        "<a href=\"https://colab.research.google.com/github/nguyenthanh-01/FUNIX/blob/main/py_3.ipynb\" target=\"_parent\"><img src=\"https://colab.research.google.com/assets/colab-badge.svg\" alt=\"Open In Colab\"/></a>"
      ]
    },
    {
      "cell_type": "code",
      "source": [
        "# tạo file exe\n",
        "import pyinstaller\n",
        "pyinstaller --onefile file.py"
      ],
      "metadata": {
        "id": "iyE_w1CPbK-K"
      },
      "execution_count": null,
      "outputs": []
    },
    {
      "cell_type": "code",
      "source": [
        "# thư viện math\n",
        "import math\n",
        "print(math.pi)"
      ],
      "metadata": {
        "colab": {
          "base_uri": "https://localhost:8080/"
        },
        "id": "g7hJyotfoj1i",
        "outputId": "53833c9f-e9fc-436e-95d5-9e3ff8fe0aec"
      },
      "execution_count": null,
      "outputs": [
        {
          "output_type": "stream",
          "name": "stdout",
          "text": [
            "3.141592653589793\n"
          ]
        }
      ]
    },
    {
      "cell_type": "code",
      "source": [
        "# lệnh math.fabs\n",
        "import math\n",
        "print(math.fabs(-10))"
      ],
      "metadata": {
        "colab": {
          "base_uri": "https://localhost:8080/"
        },
        "id": "dt6W_BzjRRct",
        "outputId": "4273210c-bbe3-46bd-d7a1-da33b830a278"
      },
      "execution_count": null,
      "outputs": [
        {
          "output_type": "stream",
          "name": "stdout",
          "text": [
            "10.0\n"
          ]
        }
      ]
    },
    {
      "cell_type": "code",
      "execution_count": null,
      "metadata": {
        "colab": {
          "base_uri": "https://localhost:8080/"
        },
        "id": "kPkrdOn9lNBZ",
        "outputId": "daa7561d-5f83-4bd8-a46c-af1cac62cf29"
      },
      "outputs": [
        {
          "output_type": "stream",
          "name": "stdout",
          "text": [
            "5\n"
          ]
        }
      ],
      "source": [
        "# lệnh math.gcd\n",
        "import math\n",
        "a = 5\n",
        "b = 10\n",
        "print(math.gcd(a, b))\n",
        "# ước số chung lớn nhất"
      ]
    },
    {
      "cell_type": "code",
      "source": [
        "# lệnh math.log\n",
        "import math\n",
        "a = 100\n",
        "b = 10\n",
        "print(math.log(a, b))\n",
        "# số lượng số 0"
      ],
      "metadata": {
        "colab": {
          "base_uri": "https://localhost:8080/"
        },
        "id": "9l1V21r9oygF",
        "outputId": "e02ba290-c245-4abd-b0dd-ea9e785ceac5"
      },
      "execution_count": null,
      "outputs": [
        {
          "output_type": "stream",
          "name": "stdout",
          "text": [
            "2.0\n"
          ]
        }
      ]
    },
    {
      "cell_type": "code",
      "source": [
        "# acos() asin() atan() cos() sin() tan()"
      ],
      "metadata": {
        "id": "TU387nawvMdy"
      },
      "execution_count": null,
      "outputs": []
    },
    {
      "cell_type": "code",
      "source": [
        "# set map"
      ],
      "metadata": {
        "id": "ssKDoz4kvpXs"
      },
      "execution_count": null,
      "outputs": []
    },
    {
      "cell_type": "code",
      "source": [
        "# mở file \n",
        "f = open(\"file.txt\", mode=' ')\n",
        "f = open(\"file.txt\", mode=' ', encoding=\" \")\n",
        "# r đọc, w ghi, a ghi cuối, x tạo mới ghi // file .txt\n",
        "# rb, wb, ab, xb // file .bin\n",
        "# r+, w+, a+, x+ // đọc ghi\n",
        "# utf-8 //"
      ],
      "metadata": {
        "id": "LudHMiNAxLWv"
      },
      "execution_count": null,
      "outputs": []
    },
    {
      "cell_type": "code",
      "source": [
        "\n",
        "# đóng file\n",
        "with open(\"file.txt\", mode=' ', encoding=\" \") as f:\n",
        "  # code\n",
        "try:\n",
        "  f = open(\"file.txt\", mode=' ', encoding=\" \")\n",
        "finally:\n",
        "  f.close()"
      ],
      "metadata": {
        "id": "j3Nm7wl0bH4x"
      },
      "execution_count": null,
      "outputs": []
    },
    {
      "cell_type": "code",
      "source": [
        "# đọc file\n",
        "# read() // readline() // readlines()\n",
        "# for i in f:\n",
        "# with open() as f: for i in f:"
      ],
      "metadata": {
        "id": "qE3KTDp0gM0h"
      },
      "execution_count": null,
      "outputs": []
    },
    {
      "cell_type": "code",
      "source": [
        "# ghi file\n",
        "# write() // writelines()"
      ],
      "metadata": {
        "id": "wc42blxDhf5L"
      },
      "execution_count": null,
      "outputs": []
    },
    {
      "cell_type": "code",
      "source": [
        "# thư viện os\n",
        "import os\n",
        "# đường dẫn \n",
        "\"c:/test\"\n",
        "# thư mục hiện tại\n",
        "os.getcwd()\n",
        "# thay đổi thư mục\n",
        "os.chdir(path)\n",
        "# tạo thư mục\n",
        "os.mkdir(path)\n",
        "# danh sách tập tin\n",
        "os.listdir()\n",
        "# đổi tên\n",
        "os.rename(cũ, mới)\n",
        "# xóa tập tin\n",
        "os.remove(file)\n",
        "# xóa thư mục\n",
        "os.rmdir()\n",
        "# system\n",
        "os.system()"
      ],
      "metadata": {
        "id": "3EqrOp2kiMm-"
      },
      "execution_count": null,
      "outputs": []
    }
  ]
}