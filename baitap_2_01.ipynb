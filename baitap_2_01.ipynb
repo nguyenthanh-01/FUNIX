{
  "nbformat": 4,
  "nbformat_minor": 0,
  "metadata": {
    "colab": {
      "name": "baitap_2_01.ipynb",
      "provenance": [],
      "collapsed_sections": [],
      "authorship_tag": "ABX9TyObpVitCeMgpglFbs80uUYS",
      "include_colab_link": true
    },
    "kernelspec": {
      "name": "python3",
      "display_name": "Python 3"
    },
    "language_info": {
      "name": "python"
    }
  },
  "cells": [
    {
      "cell_type": "markdown",
      "metadata": {
        "id": "view-in-github",
        "colab_type": "text"
      },
      "source": [
        "<a href=\"https://colab.research.google.com/github/nguyenthanh-01/FUNIX/blob/main/baitap_2_01.ipynb\" target=\"_parent\"><img src=\"https://colab.research.google.com/assets/colab-badge.svg\" alt=\"Open In Colab\"/></a>"
      ]
    },
    {
      "cell_type": "code",
      "execution_count": null,
      "metadata": {
        "colab": {
          "base_uri": "https://localhost:8080/"
        },
        "id": "BUcuYvprTkQd",
        "outputId": "6187e5d9-51e6-443e-93ff-92609c62065c"
      },
      "outputs": [
        {
          "output_type": "stream",
          "name": "stdout",
          "text": [
            "25\n",
            "0\n"
          ]
        }
      ],
      "source": [
        "# 02_01 \n",
        "# Kiểm tra số chia hết cho 3 và 5\n",
        "a = int(input())\n",
        "if a % 3 or a % 5:\n",
        "  print(0)\n",
        "else:\n",
        "  print(1)"
      ]
    },
    {
      "cell_type": "code",
      "source": [
        "# 02_02\n",
        "# Kiểm tra năm nhuận\n",
        "# Năm nhuận là năm chia hết cho 400 hoặc ( chia hết cho 4 và không chia hết cho 100).\n",
        "# In ra INVALID nếu n là một số nguyên âm hoặc số 0. Nếu n là năm nhuận, in ra YES, ngược lại in ra NO\n",
        "a = int(input())\n",
        "if a < 1:\n",
        "  print(\"INVALID\")\n",
        "elif not(a % 400) or not((a % 4) or not(a % 100)):\n",
        "  print(\"YES\")\n",
        "else:\n",
        "  print(\"NO\")"
      ],
      "metadata": {
        "colab": {
          "base_uri": "https://localhost:8080/"
        },
        "id": "QidLEYV_XC00",
        "outputId": "516a86e5-dcb1-4571-d16c-f239c29898fe"
      },
      "execution_count": null,
      "outputs": [
        {
          "output_type": "stream",
          "name": "stdout",
          "text": [
            "2020\n",
            "YES\n"
          ]
        }
      ]
    },
    {
      "cell_type": "code",
      "source": [
        "# 02_03\n",
        "# In ra số ngày của tháng\n",
        "# Nếu tháng và năm nhập vào không hợp lệ ( tháng, năm không phải là số dương, tháng không năm trong các số từ 1 tới 12) in ra INVALID, ngược lại in ra số ngày trong năm. Chú ý tháng 2 của năm nhuận có 29 ngày\n",
        "def check(b):\n",
        "  if not(b % 400) or not((b % 4) or not(b % 100)):\n",
        "    return 1\n",
        "  else:\n",
        "    return 0\n",
        "\n",
        "def test(a):\n",
        "  if a == 4 or a == 6 or a == 9 or a == 11:\n",
        "    print(30)\n",
        "  else:\n",
        "    print(31)\n",
        "\n",
        "a = int(input())\n",
        "b = int(input())\n",
        "if a < 1 or b < 1 or a > 12:\n",
        "  print(\"INVALID\")\n",
        "else:\n",
        "  if check(b):\n",
        "    if a == 2:\n",
        "      print(29)\n",
        "    else: \n",
        "      test(a)\n",
        "  else:\n",
        "    if a == 2:\n",
        "      print(28)\n",
        "    else:\n",
        "      test(a)"
      ],
      "metadata": {
        "colab": {
          "base_uri": "https://localhost:8080/"
        },
        "id": "jEUDiVSoa607",
        "outputId": "8fab4e5d-44bc-4ef1-d3d4-7e86f44587fc"
      },
      "execution_count": null,
      "outputs": [
        {
          "output_type": "stream",
          "name": "stdout",
          "text": [
            "2\n",
            "2020\n",
            "29\n"
          ]
        }
      ]
    },
    {
      "cell_type": "code",
      "source": [
        "# 02_04 \n",
        "# a,b,c  là độ dài 3 cạnh của tam giác. a,b,c là các số nguyên\n",
        "# In ra YES nếu tam giác nhập vào là hợp lệ, ngược lại in NO\n",
        "a = int(input())\n",
        "b = int(input())\n",
        "c = int(input())\n",
        "if a + b < c or a + c < b or b + c < a:\n",
        "  print(\"NO\")\n",
        "else:\n",
        "  print(\"YES\")"
      ],
      "metadata": {
        "colab": {
          "base_uri": "https://localhost:8080/"
        },
        "id": "fg2jmCTtrh-D",
        "outputId": "5df03f5e-e9c6-4ea4-9c61-98c63a464ac6"
      },
      "execution_count": null,
      "outputs": [
        {
          "output_type": "stream",
          "name": "stdout",
          "text": [
            "3\n",
            "4\n",
            "5\n",
            "YES\n"
          ]
        }
      ]
    },
    {
      "cell_type": "code",
      "source": [
        "# 02_05\n",
        "# a,b,c  là độ dài 3 cạnh của tam giác. a,b,c là các số nguyên\n",
        "# In ra INVALID tam giác đã cho không hợp lệ\n",
        "# In ra 1 nếu tam giác là tam giác đều\n",
        "# In ra 2 nếu tam giác là tam giác cân\n",
        "# In ra 3 nếu tam giác là tam giác vuông\n",
        "# In ra 4 nếu tam giác là tam giác thường\n",
        "a = int(input())\n",
        "b = int(input())\n",
        "c = int(input())\n",
        "if a + b < c or a + c < b or b + c < a:\n",
        "  print(\"INVALID\")\n",
        "elif a == b or a == c or b == c:\n",
        "  if not(a^b or a^c):\n",
        "    print(1)\n",
        "  else:\n",
        "    print(2)\n",
        "else:\n",
        "  if a**2 == b**2 + c**2 or b**2 == a**2 + c**2 or c**2 == a**2 + b**2:\n",
        "    print(3)\n",
        "  else:\n",
        "    print(4)"
      ],
      "metadata": {
        "colab": {
          "base_uri": "https://localhost:8080/"
        },
        "id": "kFS3KeDgK8Sz",
        "outputId": "dfa77a83-8d60-4eed-f7a2-6106b4d38c9c"
      },
      "execution_count": null,
      "outputs": [
        {
          "output_type": "stream",
          "name": "stdout",
          "text": [
            "1\n",
            "1\n",
            "8\n",
            "INVALID\n"
          ]
        }
      ]
    },
    {
      "cell_type": "code",
      "source": [
        "# 02_06\n",
        "# Chuyển đổi ngày sang năm, tuần, ngày\n",
        "a = int(input())\n",
        "b = a % 365\n",
        "c = b % 7\n",
        "print(a//365,b//7,c)"
      ],
      "metadata": {
        "colab": {
          "base_uri": "https://localhost:8080/"
        },
        "id": "t23-r7NlPlhE",
        "outputId": "798bde5b-69e0-413a-f191-da9d1ee2f33b"
      },
      "execution_count": null,
      "outputs": [
        {
          "output_type": "stream",
          "name": "stdout",
          "text": [
            "373\n",
            "1 1 1\n"
          ]
        }
      ]
    },
    {
      "cell_type": "code",
      "source": [
        "# 02_07\n",
        "# Phương trình bậc 2 là phương trình dạng ax^2 + bx + c = 0\n",
        "# Nếu vô nghiệm thì in ra dòng NO, nếu vô số nghiệm thì in ra INF Nếu có nghiệm thì in các nghiệm\n",
        "a = int(input())\n",
        "b = int(input())\n",
        "c = int(input())\n",
        "if a == 0:\n",
        "  if b == 0:\n",
        "    if c == 0:\n",
        "      print(\"INF\")\n",
        "    else:\n",
        "      print(\"NO\")\n",
        "  else:\n",
        "    d = -c / b\n",
        "    print(\"%.2f\" %d)\n",
        "else: \n",
        "  delta = b*b - 4*a*c\n",
        "  if delta < 0:\n",
        "    print(\"NO\")\n",
        "  elif delta == 0:\n",
        "    d = -b / (2*a)\n",
        "    print(\"%.2f\" %d, \"%.2f\" %d)\n",
        "  else:\n",
        "    delta = delta**(1/2)\n",
        "    d1 = (-b + delta) / (2*a)\n",
        "    d2 = (-b - delta) / (2*a)\n",
        "    print(\"%.2f\" %d1, \"%.2f\" %d2)"
      ],
      "metadata": {
        "id": "dtHXWHy4eWOi",
        "colab": {
          "base_uri": "https://localhost:8080/"
        },
        "outputId": "b77013f2-182e-4170-e5c7-ce2591409a12"
      },
      "execution_count": null,
      "outputs": [
        {
          "output_type": "stream",
          "name": "stdout",
          "text": [
            "8\n",
            "-4\n",
            "-2\n",
            "0.81 -0.31\n"
          ]
        }
      ]
    },
    {
      "cell_type": "code",
      "source": [
        "# 02_08\n",
        "# Cho một đoạn đại số a,b. Tính số lượng số nguyên trong đoạn [a,b] đó\n",
        "a = float(input())\n",
        "b = float(input())\n",
        "c = 0\n",
        "if a > int(a):\n",
        "  a = int(a) + 1\n",
        "else: \n",
        "  a = int(a)\n",
        "b = int(b) + 1\n",
        "for i in range(a,b,1):\n",
        "  c += 1\n",
        "print(c)"
      ],
      "metadata": {
        "id": "TKlGBVKjvepk",
        "colab": {
          "base_uri": "https://localhost:8080/"
        },
        "outputId": "422b0e23-eb51-4dca-ca48-672de626f7bc"
      },
      "execution_count": null,
      "outputs": [
        {
          "output_type": "stream",
          "name": "stdout",
          "text": [
            "1.1\n",
            "5.2\n",
            "4\n"
          ]
        }
      ]
    },
    {
      "cell_type": "code",
      "source": [
        "# 02_09\n",
        "# Cho 3 số nguyên 64 bit a,b,c. In ra dấu / nếu a/b=c hoặc b/c=a hoặc c/a=b và in ra NOSOL nếu không thỏa mãn\n",
        "a = int(input())\n",
        "b = int(input())\n",
        "c = int(input())\n",
        "if a/b==c or a/c==b or b/c==a:\n",
        "  print(\"/\")\n",
        "else:\n",
        "  print(\"NOSOL\")"
      ],
      "metadata": {
        "colab": {
          "base_uri": "https://localhost:8080/"
        },
        "id": "UNqzyzDKzSxZ",
        "outputId": "1a098854-6865-40c9-e041-5f80e288cdca"
      },
      "execution_count": null,
      "outputs": [
        {
          "output_type": "stream",
          "name": "stdout",
          "text": [
            "3\n",
            "1\n",
            "3\n",
            "/\n"
          ]
        }
      ]
    },
    {
      "cell_type": "code",
      "source": [
        "# 02_10\n",
        "# Cho biết điểm kiểm tra Tin học của 1 em học sinh (2 con điểm hệ số 1, 1 con điểm hệ số 2, 1 con điểm hệ số 3). \n",
        "# In ra Kết quả học tập môn Tin học của em đó. \n",
        "# Nếu điểm tổng kết ≥8 đạt kết quả Giỏi, <8 và ≥ 6,5 đạt kết quả Khá, <6,5 và ≥5 đạt kết quả Trung Bình, <5 đạt kết quả Yếu\n",
        "a = float(input())\n",
        "b = float(input())\n",
        "c = float(input()) * 2\n",
        "d = float(input()) * 3\n",
        "tb = (a + b + c + d) / 7\n",
        "if tb < 5:\n",
        "  print(\"YEU\")\n",
        "elif tb < 6.5:\n",
        "  print(\"TRUNG BINH\")\n",
        "elif tb < 8:\n",
        "  print(\"KHA\")\n",
        "else:\n",
        "  print(\"GIOI\")"
      ],
      "metadata": {
        "colab": {
          "base_uri": "https://localhost:8080/"
        },
        "id": "n4OzYe3V0JYQ",
        "outputId": "a25a4538-af95-4bf7-d0be-9ebed538d38f"
      },
      "execution_count": null,
      "outputs": [
        {
          "output_type": "stream",
          "name": "stdout",
          "text": [
            "9\n",
            "8\n",
            "7\n",
            "8.5\n",
            "GIOI\n"
          ]
        }
      ]
    }
  ]
}