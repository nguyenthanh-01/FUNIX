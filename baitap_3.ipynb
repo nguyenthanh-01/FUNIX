{
  "nbformat": 4,
  "nbformat_minor": 0,
  "metadata": {
    "colab": {
      "name": "baitap_3.ipynb",
      "provenance": [],
      "authorship_tag": "ABX9TyPpPl4k8YU09N7yVDZjd6JU",
      "include_colab_link": true
    },
    "kernelspec": {
      "name": "python3",
      "display_name": "Python 3"
    },
    "language_info": {
      "name": "python"
    }
  },
  "cells": [
    {
      "cell_type": "markdown",
      "metadata": {
        "id": "view-in-github",
        "colab_type": "text"
      },
      "source": [
        "<a href=\"https://colab.research.google.com/github/nguyenthanh-01/FUNIX/blob/main/baitap_3.ipynb\" target=\"_parent\"><img src=\"https://colab.research.google.com/assets/colab-badge.svg\" alt=\"Open In Colab\"/></a>"
      ]
    },
    {
      "cell_type": "code",
      "execution_count": null,
      "metadata": {
        "id": "O1FaorDc0r0N",
        "colab": {
          "base_uri": "https://localhost:8080/"
        },
        "outputId": "2d928c6a-918c-464a-b446-4696bb2e930c"
      },
      "outputs": [
        {
          "output_type": "stream",
          "name": "stdout",
          "text": [
            "23\n",
            "199\n",
            "1\n"
          ]
        }
      ],
      "source": [
        "# 03_01\n",
        "# Một số được coi là thuần nguyên tố \n",
        "# nếu nó là số nguyên tố, \n",
        "# tất cả các chữ số là nguyên tố và \n",
        "# tổng chữ số của nó cũng là một số nguyên tố. \n",
        "# Bài toán đặt ra là đếm xem trong một đoạn giữa hai số nguyên cho trước có bao nhiêu số thuần nguyên tố.\n",
        "def check1(a):\n",
        "  a = str(a)\n",
        "  for i in a:\n",
        "    if i == '2' or i == '3' or i == '5' or i == '7':\n",
        "      continue\n",
        "    else:\n",
        "      return 1\n",
        "  return 0\n",
        "\n",
        "def check4(a):\n",
        "  if a & 1:\n",
        "    return 0\n",
        "  else:\n",
        "    return 1\n",
        "\n",
        "def check3(a):\n",
        "  if a == 2 or a == 3 or a == 5 or a == 7:\n",
        "    return 0\n",
        "  b = int(a**(1/2)) + 1\n",
        "  for i in range(3,b,2):\n",
        "    if not(a%i):\n",
        "      return 1 \n",
        "  return 0\n",
        "\n",
        "def check2(a):\n",
        "  a = str(a)\n",
        "  b = 0\n",
        "  for i in a:\n",
        "    b += int(i)\n",
        "  if check4(b) or check3(b):\n",
        "    return 1\n",
        "  else:\n",
        "    return 0\n",
        "\n",
        "a = int(input())\n",
        "b = int(input()) + 1\n",
        "c = 0\n",
        "if a <= 2:\n",
        "  c = 1\n",
        "if check4(a):\n",
        "  a += 1\n",
        "for i in range(a,b,2):\n",
        "  if check1(i) or check2(i) or check3(i):\n",
        "    continue\n",
        "  else:\n",
        "    c += 1\n",
        "print(c)"
      ]
    },
    {
      "cell_type": "code",
      "source": [
        ""
      ],
      "metadata": {
        "id": "f4UWRufmgenS"
      },
      "execution_count": null,
      "outputs": []
    }
  ]
}