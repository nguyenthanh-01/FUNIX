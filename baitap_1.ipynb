{
  "nbformat": 4,
  "nbformat_minor": 0,
  "metadata": {
    "colab": {
      "name": "baitap_1.ipynb",
      "provenance": [],
      "collapsed_sections": [],
      "authorship_tag": "ABX9TyNZlmktYsWQrXvPeHZ9NVeP",
      "include_colab_link": true
    },
    "kernelspec": {
      "name": "python3",
      "display_name": "Python 3"
    },
    "language_info": {
      "name": "python"
    }
  },
  "cells": [
    {
      "cell_type": "markdown",
      "metadata": {
        "id": "view-in-github",
        "colab_type": "text"
      },
      "source": [
        "<a href=\"https://colab.research.google.com/github/nguyenthanh-01/FUNIX/blob/main/baitap_1.ipynb\" target=\"_parent\"><img src=\"https://colab.research.google.com/assets/colab-badge.svg\" alt=\"Open In Colab\"/></a>"
      ]
    },
    {
      "cell_type": "code",
      "execution_count": null,
      "metadata": {
        "colab": {
          "base_uri": "https://localhost:8080/"
        },
        "id": "fEhQOpk4-Cnh",
        "outputId": "6bd3a5e8-8934-4b44-b57f-c0649343d97c"
      },
      "outputs": [
        {
          "output_type": "stream",
          "name": "stdout",
          "text": [
            "100\n",
            "5\n",
            "20 0\n"
          ]
        }
      ],
      "source": [
        "# 01_01 \n",
        "# Tính và in ra phần nguyên, phần dư của phép chia 2 số nguyên a, b.\n",
        "a = int(input())\n",
        "b = int(input())\n",
        "print(a//b, a%b)"
      ]
    },
    {
      "cell_type": "code",
      "source": [
        "# 01_02 \n",
        "# Cho biểu thức A(x) = x^3 + 3x^2 + x + 1\n",
        "# Với giá trị của x được nhập từ bàn phím, tính và in ra giá trị của biểu thức trên.\n",
        "a = int(input())\n",
        "print(a ** 3 + 3 * a * a + a + 1)"
      ],
      "metadata": {
        "colab": {
          "base_uri": "https://localhost:8080/"
        },
        "id": "w2PmAbzrAzU3",
        "outputId": "e49d513b-2a29-499a-fa1d-564c8c3d96ed"
      },
      "execution_count": null,
      "outputs": [
        {
          "output_type": "stream",
          "name": "stdout",
          "text": [
            "2\n",
            "23\n"
          ]
        }
      ]
    },
    {
      "cell_type": "code",
      "source": [
        "# 01_03\n",
        "# Yêu cầu: Cho ba số nguyên dương a , b và c, hãy tính S=a∗(b+c)+b∗(a+c)\n",
        "a = int(input())\n",
        "b = int(input())\n",
        "c = int(input())\n",
        "print(a * (b + c) + b * (a + c))"
      ],
      "metadata": {
        "colab": {
          "base_uri": "https://localhost:8080/"
        },
        "id": "Yxd3UIOKG0pl",
        "outputId": "479f46f3-4488-4276-dfc4-3f54a2a7371c"
      },
      "execution_count": null,
      "outputs": [
        {
          "output_type": "stream",
          "name": "stdout",
          "text": [
            "1\n",
            "2\n",
            "3\n",
            "13\n"
          ]
        }
      ]
    },
    {
      "cell_type": "code",
      "source": [
        "# 01_04 \n",
        "# Nhập vào 2 số nguyên, in ra tổng, hiệu, tích, thương\n",
        "a = int(input())\n",
        "b = int(input())\n",
        "print(a + b, a - b, a * b, \"%.2f\" %(a / b))"
      ],
      "metadata": {
        "colab": {
          "base_uri": "https://localhost:8080/"
        },
        "id": "uB8ti4bzHwAd",
        "outputId": "3582a78b-285c-464d-d60d-8b7d1bb2ac65"
      },
      "execution_count": null,
      "outputs": [
        {
          "output_type": "stream",
          "name": "stdout",
          "text": [
            "10\n",
            "2\n",
            "12 8 20 5.00\n"
          ]
        }
      ]
    },
    {
      "cell_type": "code",
      "source": [
        "# 01_05 \n",
        "# Bán kính r của hình tròn là một số nguyên. Tính Chu vi và diện tích của hình tròn\n",
        "a = int(input())\n",
        "pi = 3.14\n",
        "print(\"%.2f\" %(2 * a * pi), \"%.2f\" %(a * a * pi))"
      ],
      "metadata": {
        "colab": {
          "base_uri": "https://localhost:8080/"
        },
        "id": "D8CeFsKOJGdK",
        "outputId": "c5e08a01-8bfb-4f3a-e028-40cf09e01462"
      },
      "execution_count": null,
      "outputs": [
        {
          "output_type": "stream",
          "name": "stdout",
          "text": [
            "10\n",
            "62.80 314.00\n"
          ]
        }
      ]
    },
    {
      "cell_type": "code",
      "source": [
        "# 01_06 \n",
        "# Tính khoảng cách Euclid giữa 2 điểm trong hệ tọa độ Oxy\n",
        "# Tọa độ của 2 điểm (x1,y1) và (x2,y2) là các số nguyên\n",
        "# Khoảng cách giữa 2 điểm\n",
        "a1 = int(input())\n",
        "b1 = int(input())\n",
        "a2 = int(input())\n",
        "b2 = int(input())\n",
        "print(\"%.2f\" %((a1 - a2) ** 2 + (b1 - b2) ** 2) ** (1 / 2))"
      ],
      "metadata": {
        "colab": {
          "base_uri": "https://localhost:8080/"
        },
        "id": "Ka054G3yOcGg",
        "outputId": "b1564528-cfc5-4b94-e90e-4e22cec1d19a"
      },
      "execution_count": null,
      "outputs": [
        {
          "output_type": "stream",
          "name": "stdout",
          "text": [
            "1\n",
            "4\n",
            "4\n",
            "8\n",
            "5.00\n"
          ]
        }
      ]
    },
    {
      "cell_type": "code",
      "source": [
        "# 01_07\n",
        "# Công thức chuyển đơn vị đo nhiệt độ từ C sang F như sau:\n",
        "# F = (C * 9 / 5) + 32\n",
        "# thực hiện chuyển sang đơn vị đo độ F và in ra màn hình\n",
        "a = int(input())\n",
        "print(\"%.2f\" %((a * 9 / 5) + 32))"
      ],
      "metadata": {
        "colab": {
          "base_uri": "https://localhost:8080/"
        },
        "id": "ckL0vnNHQMx-",
        "outputId": "c1c659cc-32fc-4d11-a0ae-e62ece196602"
      },
      "execution_count": null,
      "outputs": [
        {
          "output_type": "stream",
          "name": "stdout",
          "text": [
            "24\n",
            "75.20\n"
          ]
        }
      ]
    },
    {
      "cell_type": "code",
      "source": [
        "# 01_08\n",
        "# Sn=1+2+3+4+…+n\n",
        "a = int(input())\n",
        "a += 1\n",
        "b = 0\n",
        "for i in range(1,a,1):\n",
        "  b += i\n",
        "print(b)"
      ],
      "metadata": {
        "colab": {
          "base_uri": "https://localhost:8080/"
        },
        "id": "qEL-bnz9QtJV",
        "outputId": "438d4dc2-1898-4ab4-93d6-d7183bb9f357"
      },
      "execution_count": null,
      "outputs": [
        {
          "output_type": "stream",
          "name": "stdout",
          "text": [
            "10\n",
            "55\n"
          ]
        }
      ]
    },
    {
      "cell_type": "code",
      "source": [
        "# 01_09\n",
        "# Sn=1^2+2^2+3^2+4^2+5^2+…+n^2\n",
        "a = int(input())\n",
        "a += 1\n",
        "b = 0\n",
        "for i in range(1,a,1):\n",
        "  b += i ** 2\n",
        "print(b)"
      ],
      "metadata": {
        "colab": {
          "base_uri": "https://localhost:8080/"
        },
        "id": "tINrU_WEVEun",
        "outputId": "d4c3f694-c27b-4fb3-c75b-d23d5249cd6f"
      },
      "execution_count": null,
      "outputs": [
        {
          "output_type": "stream",
          "name": "stdout",
          "text": [
            "100000\n",
            "333338333350000\n"
          ]
        }
      ]
    },
    {
      "cell_type": "code",
      "source": [
        "# 01_10\n",
        "# Sn=1/(1∗2)+1/(2∗3)+1/(3∗4)+…..+1/(n∗(n+1))\n",
        "a = int(input())\n",
        "a += 1\n",
        "b = 0\n",
        "for i in range(1,a,1):\n",
        "  b += 1 / (i * (i + 1))\n",
        "print(\"%.2f\" %b)"
      ],
      "metadata": {
        "colab": {
          "base_uri": "https://localhost:8080/"
        },
        "id": "2Bu5QUudWRZn",
        "outputId": "810f2208-40e7-496b-cb53-83ddad56fa53"
      },
      "execution_count": null,
      "outputs": [
        {
          "output_type": "stream",
          "name": "stdout",
          "text": [
            "99\n",
            "0.99\n"
          ]
        }
      ]
    },
    {
      "cell_type": "code",
      "source": [
        "# 01_11\n",
        "# Sn=2+4+6+8+…+2∗n\n",
        "a = int(input())\n",
        "a += 1\n",
        "b = 0\n",
        "for i in range(1,a,1):\n",
        "  b += 2 * i\n",
        "print(b)"
      ],
      "metadata": {
        "colab": {
          "base_uri": "https://localhost:8080/"
        },
        "id": "sxs4swl7qY5f",
        "outputId": "6c97c514-e3fc-4bbe-a976-bd22f7cec785"
      },
      "execution_count": null,
      "outputs": [
        {
          "output_type": "stream",
          "name": "stdout",
          "text": [
            "3\n",
            "12\n"
          ]
        }
      ]
    },
    {
      "cell_type": "code",
      "source": [
        "# 01_12\n",
        "# n=−1+2−3+4−5+6+….+(−1)^n*n\n",
        "a = int(input())\n",
        "a += 1\n",
        "b = 0\n",
        "for i in range(1,a,1):\n",
        "  b += ((-1) ** i) * i\n",
        "print(b)"
      ],
      "metadata": {
        "id": "CmJQ6nHPsYrD",
        "colab": {
          "base_uri": "https://localhost:8080/"
        },
        "outputId": "fcde2ef3-12c3-4145-8c7e-8e8f1f833a35"
      },
      "execution_count": null,
      "outputs": [
        {
          "output_type": "stream",
          "name": "stdout",
          "text": [
            "1000\n",
            "500\n"
          ]
        }
      ]
    },
    {
      "cell_type": "code",
      "source": [
        "# 01_13\n",
        "# Cho 2 số nguyên dương a và b. \n",
        "# Tìm số chia hết cho b lớn nhất và không vượt qua a.\n",
        "a = int(input())\n",
        "b = int(input())\n",
        "for i in range(a, -1, -1):\n",
        "  if not (i % b):\n",
        "    print(i)\n",
        "    break"
      ],
      "metadata": {
        "colab": {
          "base_uri": "https://localhost:8080/"
        },
        "id": "9viRRIGAyDYv",
        "outputId": "98b9864f-f7cd-4ee4-d3d9-f09dac492ac4"
      },
      "execution_count": null,
      "outputs": [
        {
          "output_type": "stream",
          "name": "stdout",
          "text": [
            "19\n",
            "5\n",
            "15\n"
          ]
        }
      ]
    },
    {
      "cell_type": "code",
      "source": [
        "# 01_14\n",
        "# Cho 2 số nguyên dương a và b. \n",
        "# Tìm số chia hết cho b nhỏ nhất và lớn hơn hoặc bằng a.\n",
        "a = int(input())\n",
        "b = int(input())\n",
        "while True:\n",
        "  if not (a % b):\n",
        "    print(a)\n",
        "    break\n",
        "  a += 1"
      ],
      "metadata": {
        "colab": {
          "base_uri": "https://localhost:8080/"
        },
        "id": "5Nd1fxsO66Ib",
        "outputId": "0a6c6f27-757d-43ee-b71a-c7ec4fefd4e2"
      },
      "execution_count": null,
      "outputs": [
        {
          "output_type": "stream",
          "name": "stdout",
          "text": [
            "19\n",
            "5\n",
            "20\n"
          ]
        }
      ]
    },
    {
      "cell_type": "code",
      "source": [
        "# 01_15\n",
        "# Tính a^b\n",
        "a = int(input())\n",
        "b = int(input())\n",
        "print(a ** b)"
      ],
      "metadata": {
        "colab": {
          "base_uri": "https://localhost:8080/"
        },
        "id": "t08YpcHd_F7s",
        "outputId": "ba9ab4e5-9875-403a-fb38-a70515d1129f"
      },
      "execution_count": null,
      "outputs": [
        {
          "output_type": "stream",
          "name": "stdout",
          "text": [
            "2\n",
            "10\n",
            "1024\n"
          ]
        }
      ]
    },
    {
      "cell_type": "code",
      "source": [
        "# 01_16\n",
        "# Tính căn bậc 2 của số nguyên không âm n\n",
        "a = int(input())\n",
        "print(\"%.2f\" %(a ** (1 / 2)))"
      ],
      "metadata": {
        "id": "SKyMnEVi_lAm",
        "colab": {
          "base_uri": "https://localhost:8080/"
        },
        "outputId": "da00143c-07c5-4cbc-cea6-01646beabbd2"
      },
      "execution_count": null,
      "outputs": [
        {
          "output_type": "stream",
          "name": "stdout",
          "text": [
            "16\n",
            "4.00\n"
          ]
        }
      ]
    },
    {
      "cell_type": "code",
      "source": [
        "# 01_17\n",
        "# Tính giá trị tuyệt đối của một số nguyên.\n",
        "a = int(input())\n",
        "if a < 0: a = -a\n",
        "print(a)"
      ],
      "metadata": {
        "colab": {
          "base_uri": "https://localhost:8080/"
        },
        "id": "SYDVEViiQLKZ",
        "outputId": "f5f8145f-1fc4-40d2-b1fe-176daf635f63"
      },
      "execution_count": null,
      "outputs": [
        {
          "output_type": "stream",
          "name": "stdout",
          "text": [
            "20\n",
            "20\n"
          ]
        }
      ]
    },
    {
      "cell_type": "code",
      "source": [
        "# 01_18\n",
        "# Tìm số nhỏ hơn trong 2 số.\n",
        "a = int(input())\n",
        "b = int(input())\n",
        "if a > b: a = b\n",
        "print(a)"
      ],
      "metadata": {
        "colab": {
          "base_uri": "https://localhost:8080/"
        },
        "id": "emJXuDXFSGkc",
        "outputId": "544d4acf-7d54-49e3-947b-2b2022600835"
      },
      "execution_count": null,
      "outputs": [
        {
          "output_type": "stream",
          "name": "stdout",
          "text": [
            "20\n",
            "4\n",
            "4\n"
          ]
        }
      ]
    },
    {
      "cell_type": "code",
      "source": [
        "# 01_19\n",
        "# Tìm số lớn hơn trong 2 số.\n",
        "a = int(input())\n",
        "b = int(input())\n",
        "if a < b: a = b\n",
        "print(a)"
      ],
      "metadata": {
        "colab": {
          "base_uri": "https://localhost:8080/"
        },
        "id": "kArs9cYRSzo7",
        "outputId": "88097b8a-ce0e-4f68-dcbc-ef2885cb9273"
      },
      "execution_count": null,
      "outputs": [
        {
          "output_type": "stream",
          "name": "stdout",
          "text": [
            "20\n",
            "4\n",
            "20\n"
          ]
        }
      ]
    },
    {
      "cell_type": "code",
      "source": [
        "# 01_20\n",
        "# Nhập vào một từ và 1 số nguyên dương n, tiến hành in ra xâu kí tự có được bằng cách viết n lần từ ban đầu\n",
        "a = input()\n",
        "b = int(input())\n",
        "print(a * b)"
      ],
      "metadata": {
        "colab": {
          "base_uri": "https://localhost:8080/"
        },
        "id": "_uq-JLN4S7ez",
        "outputId": "dfb5e24f-5f63-4d72-e31a-c9ed10b1a420"
      },
      "execution_count": null,
      "outputs": [
        {
          "output_type": "stream",
          "name": "stdout",
          "text": [
            "hello\n",
            "3\n",
            "hellohellohello\n"
          ]
        }
      ]
    }
  ]
}