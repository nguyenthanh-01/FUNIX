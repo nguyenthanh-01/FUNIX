{
  "nbformat": 4,
  "nbformat_minor": 0,
  "metadata": {
    "colab": {
      "name": "py_2.ipynb",
      "provenance": [],
      "collapsed_sections": [],
      "authorship_tag": "ABX9TyPm/ShBmab7EH5balRSZL2Z",
      "include_colab_link": true
    },
    "kernelspec": {
      "name": "python3",
      "display_name": "Python 3"
    },
    "language_info": {
      "name": "python"
    }
  },
  "cells": [
    {
      "cell_type": "markdown",
      "metadata": {
        "id": "view-in-github",
        "colab_type": "text"
      },
      "source": [
        "<a href=\"https://colab.research.google.com/github/nguyenthanh-01/FUNIX/blob/main/py_2.ipynb\" target=\"_parent\"><img src=\"https://colab.research.google.com/assets/colab-badge.svg\" alt=\"Open In Colab\"/></a>"
      ]
    },
    {
      "cell_type": "code",
      "execution_count": null,
      "metadata": {
        "id": "FIZMpPmN1GRd",
        "colab": {
          "base_uri": "https://localhost:8080/"
        },
        "outputId": "3b93086f-a517-41bb-d045-6006a7e81734"
      },
      "outputs": [
        {
          "output_type": "stream",
          "name": "stdout",
          "text": [
            "hello\n"
          ]
        }
      ],
      "source": [
        "# hàm không trả về\n",
        "def test():\n",
        "  print(\"hello\")\n",
        "  return\n",
        "  print(\"123\")\n",
        "\n",
        "test()\n",
        "# lệnh return kết thúc hàm"
      ]
    },
    {
      "cell_type": "code",
      "source": [
        "# hàm trả về 1 cái gì đó\n",
        "def test(a):\n",
        "  return a + 1\n",
        "\n",
        "a = 5\n",
        "a = test(a)\n",
        "print(a)\n",
        "print(type(a))"
      ],
      "metadata": {
        "colab": {
          "base_uri": "https://localhost:8080/"
        },
        "id": "HPvxgNqiQrS7",
        "outputId": "d81c547a-5e1b-4cd3-ab86-76f03850f91f"
      },
      "execution_count": null,
      "outputs": [
        {
          "output_type": "stream",
          "name": "stdout",
          "text": [
            "6\n",
            "<class 'int'>\n"
          ]
        }
      ]
    },
    {
      "cell_type": "code",
      "source": [
        "# hàm trả về n cái gì đó\n",
        "def test(a):\n",
        "  return a, str(a), float(a), bool(a)\n",
        "\n",
        "a = 5\n",
        "a = test(a)\n",
        "print(a)\n",
        "print(type(a))"
      ],
      "metadata": {
        "colab": {
          "base_uri": "https://localhost:8080/"
        },
        "id": "X72Zr3pKRTPy",
        "outputId": "d6a833c7-b4b1-4505-8238-54165ecdf8ab"
      },
      "execution_count": null,
      "outputs": [
        {
          "output_type": "stream",
          "name": "stdout",
          "text": [
            "(5, '5', 5.0, True)\n",
            "<class 'tuple'>\n"
          ]
        }
      ]
    },
    {
      "cell_type": "code",
      "source": [
        "# hàm có biến mặc định\n",
        "def test(a = 1):\n",
        "  return a\n",
        "\n",
        "a = test()\n",
        "print(a)\n",
        "print(type(a))\n",
        "a = test(5)\n",
        "print(a)\n",
        "print(type(a))\n",
        "# (a=1) (a=1,b=1) (a,b=1) đúng\n",
        "# (a=1,b) sai"
      ],
      "metadata": {
        "colab": {
          "base_uri": "https://localhost:8080/"
        },
        "id": "PutUZjilWq5l",
        "outputId": "e0be9342-fd1b-4ff7-9fb8-9ebca0f851a5"
      },
      "execution_count": null,
      "outputs": [
        {
          "output_type": "stream",
          "name": "stdout",
          "text": [
            "1\n",
            "<class 'int'>\n",
            "5\n",
            "<class 'int'>\n"
          ]
        }
      ]
    },
    {
      "cell_type": "code",
      "source": [
        "# hàm có biến n\n",
        "def test(*a):\n",
        "  print(a)\n",
        "  print(type(a))\n",
        "\n",
        "test(5)\n",
        "test(5, '5', 5.0, True)"
      ],
      "metadata": {
        "colab": {
          "base_uri": "https://localhost:8080/"
        },
        "id": "JZ9hoTQzdjlK",
        "outputId": "5abc6cf2-9f1e-454e-9c26-b611c57932a3"
      },
      "execution_count": null,
      "outputs": [
        {
          "output_type": "stream",
          "name": "stdout",
          "text": [
            "(5,)\n",
            "<class 'tuple'>\n",
            "(5, '5', 5.0, True)\n",
            "<class 'tuple'>\n"
          ]
        }
      ]
    },
    {
      "cell_type": "code",
      "source": [
        "# vòng lặp while vô tận\n",
        "a = 0\n",
        "while True:\n",
        "  a += 1\n",
        "  print(a)\n",
        "  if a < 5:\n",
        "    continue\n",
        "  break\n",
        "# lệnh continue quay về điểm xuất phát\n",
        "# lệnh break kết thúc vòng lặp"
      ],
      "metadata": {
        "colab": {
          "base_uri": "https://localhost:8080/"
        },
        "id": "2b-ICEBeXoZF",
        "outputId": "2a6ab863-fc84-4f31-9d9f-34f5166df7af"
      },
      "execution_count": null,
      "outputs": [
        {
          "output_type": "stream",
          "name": "stdout",
          "text": [
            "1\n",
            "2\n",
            "3\n",
            "4\n",
            "5\n"
          ]
        }
      ]
    },
    {
      "cell_type": "code",
      "source": [
        "# vòng lặp for với 1 mảng\n",
        "a = [1, 3, 2]\n",
        "for i in a:\n",
        "  print(i)"
      ],
      "metadata": {
        "id": "SU_IbAWZZ4dx",
        "colab": {
          "base_uri": "https://localhost:8080/"
        },
        "outputId": "7c7df4e7-6723-4500-c1e1-339413f6e336"
      },
      "execution_count": null,
      "outputs": [
        {
          "output_type": "stream",
          "name": "stdout",
          "text": [
            "1\n",
            "3\n",
            "2\n"
          ]
        }
      ]
    },
    {
      "cell_type": "code",
      "source": [
        "\n",
        "# vòng lặp for với 1 chuỗi\n",
        "a = \"132\"\n",
        "for i in a:\n",
        "  print(i)"
      ],
      "metadata": {
        "colab": {
          "base_uri": "https://localhost:8080/"
        },
        "id": "O7mGiEfyZ5W_",
        "outputId": "9cf1f8a8-cbf5-4505-8194-ff10c222e088"
      },
      "execution_count": null,
      "outputs": [
        {
          "output_type": "stream",
          "name": "stdout",
          "text": [
            "1\n",
            "3\n",
            "2\n"
          ]
        }
      ]
    },
    {
      "cell_type": "code",
      "source": [
        "# lệnh len \n",
        "a = [1, 2, 3, 4, 5]\n",
        "print(len(a))"
      ],
      "metadata": {
        "colab": {
          "base_uri": "https://localhost:8080/"
        },
        "id": "Bpwk5dwXujdR",
        "outputId": "af5015cc-88ab-460a-9a9b-c73e543f3c3e"
      },
      "execution_count": null,
      "outputs": [
        {
          "output_type": "stream",
          "name": "stdout",
          "text": [
            "5\n"
          ]
        }
      ]
    },
    {
      "cell_type": "code",
      "source": [
        "# vòng lặp for vị trí thuận\n",
        "a = [1, 2, 3, 4, 5]\n",
        "b = len(a)\n",
        "for i in range(0, b, 1):\n",
        "  print(i)\n",
        "# lệnh range chạy từ 0 > b - 1 với bước nhảy là 1"
      ],
      "metadata": {
        "id": "grkFJLeslnwO",
        "colab": {
          "base_uri": "https://localhost:8080/"
        },
        "outputId": "b60a9439-18f7-42a0-b21f-9f1739c4b31f"
      },
      "execution_count": null,
      "outputs": [
        {
          "output_type": "stream",
          "name": "stdout",
          "text": [
            "0\n",
            "1\n",
            "2\n",
            "3\n",
            "4\n"
          ]
        }
      ]
    },
    {
      "cell_type": "code",
      "source": [
        "# vòng lặp for vị trí nghịch\n",
        "a = [1, 2, 3, 4, 5]\n",
        "b = len(a) - 1\n",
        "for i in range(b, -1, -1):\n",
        "  print(i)\n",
        "# lệnh range chạy từ b > -1 + 1 với bước nhảy là -1"
      ],
      "metadata": {
        "colab": {
          "base_uri": "https://localhost:8080/"
        },
        "id": "aXasrwVZKiQs",
        "outputId": "c1189364-01bc-4d7b-9e54-7cfae9667096"
      },
      "execution_count": null,
      "outputs": [
        {
          "output_type": "stream",
          "name": "stdout",
          "text": [
            "4\n",
            "3\n",
            "2\n",
            "1\n",
            "0\n"
          ]
        }
      ]
    },
    {
      "cell_type": "code",
      "source": [
        "# vòng lặp for giá trị thuận\n",
        "for i in range(1, 6, 1):\n",
        "  print(i)"
      ],
      "metadata": {
        "colab": {
          "base_uri": "https://localhost:8080/"
        },
        "id": "c9Y_YOjA2KYs",
        "outputId": "b4940407-6576-4487-ea58-810cbfe627e3"
      },
      "execution_count": null,
      "outputs": [
        {
          "output_type": "stream",
          "name": "stdout",
          "text": [
            "1\n",
            "2\n",
            "3\n",
            "4\n",
            "5\n"
          ]
        }
      ]
    },
    {
      "cell_type": "code",
      "source": [
        "# vòng lặp for giá trị nghịch\n",
        "for i in range(5, 0, -1):\n",
        "  print(i)"
      ],
      "metadata": {
        "colab": {
          "base_uri": "https://localhost:8080/"
        },
        "id": "ksoGL9sN3pzo",
        "outputId": "b8be7861-f503-4bc1-a757-d9e2c3710f47"
      },
      "execution_count": null,
      "outputs": [
        {
          "output_type": "stream",
          "name": "stdout",
          "text": [
            "5\n",
            "4\n",
            "3\n",
            "2\n",
            "1\n"
          ]
        }
      ]
    },
    {
      "cell_type": "code",
      "source": [
        "# phép toán trong chuỗi\n",
        "print('a' + 'b')\n",
        "print(\"ab\" * 3)"
      ],
      "metadata": {
        "id": "ye7HLl_gOw7M",
        "colab": {
          "base_uri": "https://localhost:8080/"
        },
        "outputId": "fc7e78f3-32c8-44bc-953e-2ab4fc21c9bb"
      },
      "execution_count": null,
      "outputs": [
        {
          "output_type": "stream",
          "name": "stdout",
          "text": [
            "ab\n",
            "ababab\n"
          ]
        }
      ]
    },
    {
      "cell_type": "code",
      "source": [
        "# cắt chuỗi thuận\n",
        "a = \"thanh\"\n",
        "print(a[0:4:1])\n",
        "print(a[1::1])\n",
        "# lệnh a[::] cắt từ a[0] > a[4-1] với bước nhảy 1\n",
        "# a[1::1] cắt 1 mảng từ a[1] > hết với bước nhảy 1"
      ],
      "metadata": {
        "colab": {
          "base_uri": "https://localhost:8080/"
        },
        "id": "-0s2r-6sDWgi",
        "outputId": "b8615416-1499-48fa-9c70-d1cf737e67b1"
      },
      "execution_count": null,
      "outputs": [
        {
          "output_type": "stream",
          "name": "stdout",
          "text": [
            "than\n",
            "hanh\n"
          ]
        }
      ]
    },
    {
      "cell_type": "code",
      "source": [
        "\n",
        "# cắt chuỗi nghịch\n",
        "a = \"thanh\"\n",
        "print(a[4:0:-1])\n",
        "print(a[3::-1])\n",
        "# lệnh a[::] cắt từ a[4] > a[0+1] với bước nhảy -1\n",
        "# a[3::-1] cắt 1 mảng từ a[3] > hết với bước nhảy -1"
      ],
      "metadata": {
        "colab": {
          "base_uri": "https://localhost:8080/"
        },
        "id": "buUkQx-wM0lh",
        "outputId": "ce7aa00c-819a-44bf-a59b-1f23acdab2a1"
      },
      "execution_count": null,
      "outputs": [
        {
          "output_type": "stream",
          "name": "stdout",
          "text": [
            "hnah\n",
            "naht\n"
          ]
        }
      ]
    },
    {
      "cell_type": "code",
      "source": [
        "# định dạng f-string\n",
        "a = '10'\n",
        "b = 5\n",
        "print(f\"{a} / {b} = 2\")"
      ],
      "metadata": {
        "colab": {
          "base_uri": "https://localhost:8080/"
        },
        "id": "W4lCvn35WR8y",
        "outputId": "f664751d-add1-4b2e-8684-e1ec9a7d2008"
      },
      "execution_count": null,
      "outputs": [
        {
          "output_type": "stream",
          "name": "stdout",
          "text": [
            "10 / 5 = 2\n"
          ]
        }
      ]
    },
    {
      "cell_type": "code",
      "source": [
        "# lệnh capitalize\n",
        "a = \"nguyen thanh\"\n",
        "print(a.capitalize())"
      ],
      "metadata": {
        "colab": {
          "base_uri": "https://localhost:8080/"
        },
        "id": "X7XuM-RFcUg4",
        "outputId": "79f15c63-2f80-45fc-d755-a0149f32003b"
      },
      "execution_count": null,
      "outputs": [
        {
          "output_type": "stream",
          "name": "stdout",
          "text": [
            "Nguyen thanh\n"
          ]
        }
      ]
    },
    {
      "cell_type": "code",
      "source": [
        "# lệnh upper\n",
        "a = \"thanh\"\n",
        "print(a.upper())"
      ],
      "metadata": {
        "colab": {
          "base_uri": "https://localhost:8080/"
        },
        "id": "jSHqKMiBc8ci",
        "outputId": "a393ce07-4843-4f0d-86c5-6d58a681e738"
      },
      "execution_count": null,
      "outputs": [
        {
          "output_type": "stream",
          "name": "stdout",
          "text": [
            "THANH\n"
          ]
        }
      ]
    },
    {
      "cell_type": "code",
      "source": [
        "# lệnh lower\n",
        "a = \"THANH\"\n",
        "print(a.lower())"
      ],
      "metadata": {
        "colab": {
          "base_uri": "https://localhost:8080/"
        },
        "id": "bHtBDBYadJhV",
        "outputId": "3d22026d-5859-4068-efe4-efd049849459"
      },
      "execution_count": null,
      "outputs": [
        {
          "output_type": "stream",
          "name": "stdout",
          "text": [
            "thanh\n"
          ]
        }
      ]
    },
    {
      "cell_type": "code",
      "source": [
        "# lệnh swapcase\n",
        "a = \"Thanh\"\n",
        "print(a.swapcase())"
      ],
      "metadata": {
        "colab": {
          "base_uri": "https://localhost:8080/"
        },
        "id": "oZUq-YLhdXa9",
        "outputId": "1583bb3f-6319-499d-b849-6dd6e9aac470"
      },
      "execution_count": null,
      "outputs": [
        {
          "output_type": "stream",
          "name": "stdout",
          "text": [
            "tHANH\n"
          ]
        }
      ]
    },
    {
      "cell_type": "code",
      "source": [
        "# lệnh title\n",
        "a = \"nguyen thanh\"\n",
        "print(a.title())"
      ],
      "metadata": {
        "colab": {
          "base_uri": "https://localhost:8080/"
        },
        "id": "kx_V2JQQdk3e",
        "outputId": "80f9cc4a-bfc1-4c17-ec51-cb18456d85db"
      },
      "execution_count": null,
      "outputs": [
        {
          "output_type": "stream",
          "name": "stdout",
          "text": [
            "Nguyen Thanh\n"
          ]
        }
      ]
    },
    {
      "cell_type": "code",
      "source": [
        "# lệnh split\n",
        "a = input().split(\" \")\n",
        "print(a)\n",
        "# a.split(\" \")"
      ],
      "metadata": {
        "colab": {
          "base_uri": "https://localhost:8080/"
        },
        "id": "8azW8zPgLgxw",
        "outputId": "ec98072c-7415-4cfe-b2e3-c4b58b1d290b"
      },
      "execution_count": null,
      "outputs": [
        {
          "output_type": "stream",
          "name": "stdout",
          "text": [
            "1 2 3 4 5\n",
            "['1', '2', '3', '4', '5']\n"
          ]
        }
      ]
    },
    {
      "cell_type": "code",
      "source": [
        "# lệnh list\n",
        "a = \"12345\"\n",
        "print(list(a))"
      ],
      "metadata": {
        "colab": {
          "base_uri": "https://localhost:8080/"
        },
        "id": "r9wbWevJSa2M",
        "outputId": "6d39e48e-ffd2-465c-91cf-acbb6aa99472"
      },
      "execution_count": null,
      "outputs": [
        {
          "output_type": "stream",
          "name": "stdout",
          "text": [
            "['1', '2', '3', '4', '5']\n"
          ]
        }
      ]
    },
    {
      "cell_type": "code",
      "source": [
        "# lệnh join\n",
        "a = ['1', '2', '3', '4', '5']\n",
        "print(\"\".join(a))"
      ],
      "metadata": {
        "colab": {
          "base_uri": "https://localhost:8080/"
        },
        "id": "IiW1C_FFkGyv",
        "outputId": "7c6dbbad-029d-499a-c997-9a8ef33dcacc"
      },
      "execution_count": null,
      "outputs": [
        {
          "output_type": "stream",
          "name": "stdout",
          "text": [
            "12345\n"
          ]
        }
      ]
    },
    {
      "cell_type": "code",
      "source": [
        "# mã unicode\n",
        "for i in range(0, 255, 1):\n",
        "  print(i, chr(i))\n",
        "# lệnh chr() chuyển số thành ký tự"
      ],
      "metadata": {
        "id": "IW9625hdmSlq"
      },
      "execution_count": null,
      "outputs": []
    },
    {
      "cell_type": "code",
      "source": [
        "# mật mã\n",
        "a = \"We are team\"\n",
        "b = len(a)\n",
        "c = []\n",
        "for i in range(0, b, 1):\n",
        "  c.append(ord(a[i]))\n",
        "  c[i] ^= 12\n",
        "  c[i] = chr(c[i])\n",
        "print(\"\".join(c))\n",
        "# lệnh ord() chuyển ký tự thành số"
      ],
      "metadata": {
        "id": "kpNG-KJ_pi1B",
        "colab": {
          "base_uri": "https://localhost:8080/"
        },
        "outputId": "7cc72940-8cd1-467b-edc2-7e46bec7e21e"
      },
      "execution_count": null,
      "outputs": [
        {
          "output_type": "stream",
          "name": "stdout",
          "text": [
            "[i,m~i,xima\n"
          ]
        }
      ]
    },
    {
      "cell_type": "code",
      "source": [
        "# xóa mảng\n",
        "a = [1, 2, 3, 4, 5]\n",
        "b = [1, 2, 3, 4, 5]\n",
        "del a[3::1]\n",
        "b.clear()\n",
        "print(a)\n",
        "print(b)\n",
        "# lệnh del a[3::1] xóa từ a[3] > hết\n",
        "# lệnh b.clear() xóa trắng"
      ],
      "metadata": {
        "colab": {
          "base_uri": "https://localhost:8080/"
        },
        "id": "IxSaWOKjUouZ",
        "outputId": "fed11b17-e265-40b8-d9b4-1e9639b13859"
      },
      "execution_count": null,
      "outputs": [
        {
          "output_type": "stream",
          "name": "stdout",
          "text": [
            "[1, 2, 3]\n",
            "[]\n"
          ]
        }
      ]
    },
    {
      "cell_type": "code",
      "source": [
        "# lệnh append\n",
        "a = []\n",
        "a.append(10)\n",
        "print(a)"
      ],
      "metadata": {
        "colab": {
          "base_uri": "https://localhost:8080/"
        },
        "id": "NYDZSh_vZEKt",
        "outputId": "c0e4e955-e402-4366-81f7-3b68a2dae7de"
      },
      "execution_count": null,
      "outputs": [
        {
          "output_type": "stream",
          "name": "stdout",
          "text": [
            "[10]\n"
          ]
        }
      ]
    },
    {
      "cell_type": "code",
      "source": [
        "# lệnh insert \n",
        "a = [1, 2, 3, 4, 5]\n",
        "a.insert(2, 0)\n",
        "print(a)"
      ],
      "metadata": {
        "colab": {
          "base_uri": "https://localhost:8080/"
        },
        "id": "UjbjMmsDeMj0",
        "outputId": "08c4db6d-0c88-4626-c26b-11645f8005f7"
      },
      "execution_count": null,
      "outputs": [
        {
          "output_type": "stream",
          "name": "stdout",
          "text": [
            "[1, 2, 0, 3, 4, 5]\n"
          ]
        }
      ]
    },
    {
      "cell_type": "code",
      "source": [
        "# lệnh pop\n",
        "a = [1, 2, 0, 3, 4, 5]\n",
        "a.pop(2)\n",
        "print(a)"
      ],
      "metadata": {
        "colab": {
          "base_uri": "https://localhost:8080/"
        },
        "id": "2Y9DEIURgPLI",
        "outputId": "44401218-59d1-4398-c72a-efb51a03cdf5"
      },
      "execution_count": null,
      "outputs": [
        {
          "output_type": "stream",
          "name": "stdout",
          "text": [
            "[1, 2, 3, 4, 5]\n"
          ]
        }
      ]
    },
    {
      "cell_type": "code",
      "source": [
        "# lệnh reverse\n",
        "a = [1, 2, 3, 4, 5]\n",
        "a.reverse()\n",
        "print(a)"
      ],
      "metadata": {
        "colab": {
          "base_uri": "https://localhost:8080/"
        },
        "id": "leC3KOorg688",
        "outputId": "b3645a43-340d-4909-d145-aadcd8738b3a"
      },
      "execution_count": null,
      "outputs": [
        {
          "output_type": "stream",
          "name": "stdout",
          "text": [
            "[5, 4, 3, 2, 1]\n"
          ]
        }
      ]
    },
    {
      "cell_type": "code",
      "source": [
        "a = input()\n",
        "a = a.swapcase()\n",
        "a = a.split(\" \")\n",
        "a.reverse()\n",
        "a = \" \".join(a)\n",
        "print(a)"
      ],
      "metadata": {
        "colab": {
          "base_uri": "https://localhost:8080/"
        },
        "id": "8UEIY4EjgvIy",
        "outputId": "177de4a6-6071-414e-a492-7612099941c7"
      },
      "execution_count": null,
      "outputs": [
        {
          "output_type": "stream",
          "name": "stdout",
          "text": [
            "aWESOME is cODING\n",
            "Coding IS Awesome\n"
          ]
        }
      ]
    },
    {
      "cell_type": "code",
      "source": [
        "# lệnh sort\n",
        "a = [4, 3, 2, 12, 10]\n",
        "a.sort()\n",
        "print(a)\n",
        "a.sort(reverse= True)\n",
        "print(a)\n",
        "a.sort(key= str)\n",
        "print(a)"
      ],
      "metadata": {
        "colab": {
          "base_uri": "https://localhost:8080/"
        },
        "id": "qEfKWq-Emc7g",
        "outputId": "621721be-a0e0-4e43-88ae-4c9f8a3670b4"
      },
      "execution_count": null,
      "outputs": [
        {
          "output_type": "stream",
          "name": "stdout",
          "text": [
            "[2, 3, 4, 10, 12]\n",
            "[12, 10, 4, 3, 2]\n",
            "[10, 12, 2, 3, 4]\n"
          ]
        }
      ]
    },
    {
      "cell_type": "code",
      "source": [
        "# lệnh enumerate\n",
        "a = [1, 2, 3, 4, 5]\n",
        "for i, a0 in enumerate(a):\n",
        "  print(i, a0)"
      ],
      "metadata": {
        "colab": {
          "base_uri": "https://localhost:8080/"
        },
        "id": "Z4-782qKnkaN",
        "outputId": "04649923-a56c-4739-c9fc-0edc055e7709"
      },
      "execution_count": null,
      "outputs": [
        {
          "output_type": "stream",
          "name": "stdout",
          "text": [
            "0 1\n",
            "1 2\n",
            "2 3\n",
            "3 4\n",
            "4 5\n"
          ]
        }
      ]
    },
    {
      "cell_type": "code",
      "source": [
        "# lệnh max\n",
        "a = [1, 2, 3, 4, 5]\n",
        "print(max(a))"
      ],
      "metadata": {
        "colab": {
          "base_uri": "https://localhost:8080/"
        },
        "id": "yAX1_8aRd32_",
        "outputId": "82eff2e4-0811-4f92-d819-5af330868ef4"
      },
      "execution_count": null,
      "outputs": [
        {
          "output_type": "stream",
          "name": "stdout",
          "text": [
            "5\n"
          ]
        }
      ]
    },
    {
      "cell_type": "code",
      "source": [
        "# lệnh min\n",
        "a = [1, 2, 3, 4, 5]\n",
        "print(min(a))"
      ],
      "metadata": {
        "colab": {
          "base_uri": "https://localhost:8080/"
        },
        "id": "RcBPZWIpgz9N",
        "outputId": "202b45de-f326-44b3-b203-abf5bc34d977"
      },
      "execution_count": null,
      "outputs": [
        {
          "output_type": "stream",
          "name": "stdout",
          "text": [
            "1\n"
          ]
        }
      ]
    },
    {
      "cell_type": "code",
      "source": [
        "# Tổ hợp\n",
        "a = int(input()) + 1\n",
        "b = int(input())\n",
        "c = b - a + 1\n",
        "d1 = 1\n",
        "d2 = 1\n",
        "for i in range(b,c,-1):\n",
        "  d1 *= i\n",
        "for i in range(1,a,1):\n",
        "  d2 *= i\n",
        "print(int(d1/d2))"
      ],
      "metadata": {
        "colab": {
          "base_uri": "https://localhost:8080/"
        },
        "id": "4xUZVxfKP7VE",
        "outputId": "1cf9e681-119e-451e-9cff-216d375d30dd"
      },
      "execution_count": null,
      "outputs": [
        {
          "output_type": "stream",
          "name": "stdout",
          "text": [
            "3\n",
            "6\n",
            "20\n"
          ]
        }
      ]
    },
    {
      "cell_type": "code",
      "source": [
        "print(\"\"\"\n",
        "-=Buddha=- độ cho code em ko bug\n",
        "                                  _\n",
        "                               _ooOoo_\n",
        "                              o8888888o\n",
        "                              88\" . \"88\n",
        "                              (| -_- |)\n",
        "                              O\\\\  =  /O\n",
        "                           ____/`---'\\\\____\n",
        "                         .'  \\\\\\\\|     |//  `.\n",
        "                        /  \\\\\\\\|||  :  |||//  \\\\\n",
        "                       /  _||||| -:- |||||_  \\\\\n",
        "                       |   | \\\\\\\\\\\\  -  /'| |   |\n",
        "                       | \\\\_|  `\\\\`---'//  |_/ |\n",
        "                       \\\\  .-\\\\__ `-. -'__/-.  /\n",
        "                     ___`. .'  /--.--\\\\  `. .'___\n",
        "                  .\"\" '<  `.___\\\\_<|>_/___.' _> \\\\\"\".\n",
        "                 | | :  `- \\\\`. ;`. _/; .'/ /  .' ; |\n",
        "                 \\\\  \\\\ `-.   \\\\_\\\\_`. _.'_/_/  -' _.' /\n",
        "       ===========`-.`___`-.__\\\\ \\\\___  /__.-'_.'_.-'================\n",
        "                          `=--=-'\n",
        "\n",
        "          _.-/`)\n",
        "         // / / )\n",
        "      .=// / / / )\n",
        "     //`/ / / / /\n",
        "    // /     ` /\n",
        "   ||         /\n",
        "   \\\\\\\\        /\n",
        "    ))     .'\n",
        "   //     /\n",
        "         /\n",
        "\"\"\")"
      ],
      "metadata": {
        "colab": {
          "base_uri": "https://localhost:8080/"
        },
        "id": "-c9L4TE_QGq1",
        "outputId": "061221d9-a8b6-4050-d862-98106e81cd78"
      },
      "execution_count": null,
      "outputs": [
        {
          "output_type": "stream",
          "name": "stdout",
          "text": [
            "\n",
            "-=Buddha=- độ cho code em ko bug\n",
            "                                  _\n",
            "                               _ooOoo_\n",
            "                              o8888888o\n",
            "                              88\" . \"88\n",
            "                              (| -_- |)\n",
            "                              O\\  =  /O\n",
            "                           ____/`---'\\____\n",
            "                         .'  \\\\|     |//  `.\n",
            "                        /  \\\\|||  :  |||//  \\\n",
            "                       /  _||||| -:- |||||_  \\\n",
            "                       |   | \\\\\\  -  /'| |   |\n",
            "                       | \\_|  `\\`---'//  |_/ |\n",
            "                       \\  .-\\__ `-. -'__/-.  /\n",
            "                     ___`. .'  /--.--\\  `. .'___\n",
            "                  .\"\" '<  `.___\\_<|>_/___.' _> \\\"\".\n",
            "                 | | :  `- \\`. ;`. _/; .'/ /  .' ; |\n",
            "                 \\  \\ `-.   \\_\\_`. _.'_/_/  -' _.' /\n",
            "       ===========`-.`___`-.__\\ \\___  /__.-'_.'_.-'================\n",
            "                          `=--=-'\n",
            "\n",
            "          _.-/`)\n",
            "         // / / )\n",
            "      .=// / / / )\n",
            "     //`/ / / / /\n",
            "    // /     ` /\n",
            "   ||         /\n",
            "   \\\\        /\n",
            "    ))     .'\n",
            "   //     /\n",
            "         /\n",
            "\n"
          ]
        }
      ]
    }
  ]
}